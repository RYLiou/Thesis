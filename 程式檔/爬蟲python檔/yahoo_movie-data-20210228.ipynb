{
 "cells": [
  {
   "cell_type": "code",
   "execution_count": 19,
   "metadata": {},
   "outputs": [],
   "source": [
    "import requests\n",
    "from bs4 import BeautifulSoup\n",
    "from selenium import webdriver, common\n",
    "from tqdm.auto import tqdm\n",
    "\n",
    "import numpy as np\n",
    "import pandas as pd\n",
    "import os, sys\n",
    "import urllib\n",
    "import time\n",
    "\n",
    "# selenium 開關\n",
    "option = webdriver.ChromeOptions()\n",
    "option.add_argument('headless')"
   ]
  },
  {
   "cell_type": "code",
   "execution_count": 12,
   "metadata": {},
   "outputs": [
    {
     "name": "stdout",
     "output_type": "stream",
     "text": [
      "Collecting webdriver_manager\n",
      "  Downloading webdriver_manager-3.3.0-py2.py3-none-any.whl (16 kB)\n",
      "Collecting crayons\n",
      "  Downloading crayons-0.4.0-py2.py3-none-any.whl (4.6 kB)\n",
      "Collecting configparser\n",
      "  Downloading configparser-5.0.1-py3-none-any.whl (22 kB)\n",
      "Requirement already satisfied: requests in d:\\anaconda\\lib\\site-packages (from webdriver_manager) (2.21.0)\n",
      "Requirement already satisfied: colorama in d:\\anaconda\\lib\\site-packages (from crayons->webdriver_manager) (0.4.3)\n",
      "Requirement already satisfied: urllib3<1.25,>=1.21.1 in d:\\anaconda\\lib\\site-packages (from requests->webdriver_manager) (1.24.3)\n",
      "Requirement already satisfied: certifi>=2017.4.17 in d:\\anaconda\\lib\\site-packages (from requests->webdriver_manager) (2020.6.20)\n",
      "Requirement already satisfied: idna<2.9,>=2.5 in d:\\anaconda\\lib\\site-packages (from requests->webdriver_manager) (2.8)\n",
      "Requirement already satisfied: chardet<3.1.0,>=3.0.2 in d:\\anaconda\\lib\\site-packages (from requests->webdriver_manager) (3.0.4)\n",
      "Installing collected packages: crayons, configparser, webdriver-manager\n",
      "Successfully installed configparser-5.0.1 crayons-0.4.0 webdriver-manager-3.3.0\n"
     ]
    }
   ],
   "source": [
    "!pip install webdriver_manager"
   ]
  },
  {
   "cell_type": "code",
   "execution_count": 13,
   "metadata": {},
   "outputs": [
    {
     "name": "stderr",
     "output_type": "stream",
     "text": [
      "[WDM] - ====== WebDriver manager ======\n",
      "[WDM] - Current google-chrome version is 87.0.4280\n",
      "[WDM] - Get LATEST driver version for 87.0.4280\n"
     ]
    },
    {
     "name": "stdout",
     "output_type": "stream",
     "text": [
      "\n",
      "\n"
     ]
    },
    {
     "name": "stderr",
     "output_type": "stream",
     "text": [
      "[WDM] - There is no [win32] chromedriver for browser 87.0.4280 in cache\n",
      "[WDM] - Get LATEST driver version for 87.0.4280\n",
      "[WDM] - Trying to download new driver from https://chromedriver.storage.googleapis.com/87.0.4280.88/chromedriver_win32.zip\n",
      "[WDM] - Driver has been saved in cache [C:\\Users\\christopher\\.wdm\\drivers\\chromedriver\\win32\\87.0.4280.88]\n"
     ]
    }
   ],
   "source": [
    "from webdriver_manager.chrome import ChromeDriverManager\n",
    "\n",
    "driver = webdriver.Chrome(ChromeDriverManager().install())"
   ]
  },
  {
   "cell_type": "code",
   "execution_count": 22,
   "metadata": {},
   "outputs": [],
   "source": [
    "def yahoo_movie(url):\n",
    "    \n",
    "    # open selenium\n",
    "#    driver = webdriver.Chrome(ChromeDriverManager().install())\n",
    "    driver = webdriver.Chrome(r'D:\\chromedriver.exe',chrome_options=option)\n",
    "    driver.get(url)\n",
    "    driver.find_element_by_xpath('//*[@id=\"content_l\"]/div[1]/div[1]/ul/li[6]/a').click()\n",
    "    \n",
    "    # empty list\n",
    "    comment = []\n",
    "    rating = []\n",
    "\n",
    "    # let's get it start !\n",
    "    time.sleep(3)\n",
    "    soup = BeautifulSoup(driver.page_source, 'html.parser')\n",
    "    page = int(soup.select('li a')[-2].text)\n",
    "\n",
    "    tstart = time.time() \n",
    "\n",
    "    for i in range(page-1):\n",
    "\n",
    "        # when element.click, need to sleep for loading\n",
    "        time.sleep(3)\n",
    "        soup = BeautifulSoup(driver.page_source, 'html.parser')\n",
    "\n",
    "        forms = soup.find_all(name = 'input', attrs={'name':'score'})\n",
    "        for x in range(1,11):    \n",
    "            ##  parsing error\n",
    "            try :\n",
    "                rating.append(forms[x].attrs['value'])\n",
    "\n",
    "            except IndexError :\n",
    "                time.sleep(3)\n",
    "                soup = BeautifulSoup(driver.page_source, 'html.parser')\n",
    "                forms = soup.find_all(name = 'input', attrs={'name':'score'}) \n",
    "\n",
    "                rating.append(forms[x].attrs['value'])\n",
    "\n",
    "        co = soup.select('form.form_good span')  \n",
    "        for y in range(2,30,3):    \n",
    "            ##  parsing error\n",
    "            try :\n",
    "                comment.append(co[y].text)\n",
    "\n",
    "            except IndexError :\n",
    "                time.sleep(3)\n",
    "                soup = BeautifulSoup(driver.page_source, 'html.parser')\n",
    "                co = soup.select('form.form_good span') \n",
    "\n",
    "                comment.append(co[y].text)\n",
    "\n",
    "        try :\n",
    "            element = driver.find_element_by_css_selector('#content_l > div.page_numbox > ul > li.nexttxt > a')\n",
    "            driver.execute_script(\"arguments[0].click();\", element)\n",
    "        except :\n",
    "            print('last page')\n",
    "\n",
    "    ## last page\n",
    "\n",
    "    time.sleep(3)\n",
    "    soup = BeautifulSoup(driver.page_source, 'html.parser')\n",
    "    forms = soup.find_all(name = 'input', attrs={'name':'score'})\n",
    "    co = soup.select('form.form_good span') \n",
    "\n",
    "    for i in range(1,len(forms)):\n",
    "        rating.append(forms[i].attrs['value'])\n",
    "\n",
    "    for i in range(2,len(co),3):\n",
    "        comment.append(co[i].text)\n",
    "\n",
    "    tend = time.time()\n",
    "    run_time = tend - tstart\n",
    "    \n",
    "    ## Dataframe\n",
    "    df1 = pd.DataFrame({'rating': rating,\n",
    "                        'comment': comment})\n",
    "\n",
    "    print('Finish !\\nIt runs %.4f sec' % run_time)\n",
    "    print('-------------------------------------------------------')\n",
    "    print('Pages: {0:.0f} \\nComment: {1:.0f}\\nRatting: {2:.0f}'.format(page, len(comment), len(rating)))\n",
    "    print('-------------------------------------------------------')\n",
    "    print('you can print df1, comment, and rating to see the result')\n",
    "    \n",
    "    return(df1)"
   ]
  },
  {
   "cell_type": "code",
   "execution_count": null,
   "metadata": {},
   "outputs": [],
   "source": []
  },
  {
   "cell_type": "markdown",
   "metadata": {},
   "source": [
    "# Catch"
   ]
  },
  {
   "cell_type": "markdown",
   "metadata": {},
   "source": [
    "```\n",
    "2020年國片 資料截至2021/02/28\n",
    "參考網址:https://loory.tw/2020-taiwan-movies/\n",
    "```"
   ]
  },
  {
   "cell_type": "markdown",
   "metadata": {},
   "source": [
    "## 戀愛好好說"
   ]
  },
  {
   "cell_type": "code",
   "execution_count": 23,
   "metadata": {},
   "outputs": [
    {
     "name": "stderr",
     "output_type": "stream",
     "text": [
      "<ipython-input-22-91a42dcf71e5>:5: DeprecationWarning: use options instead of chrome_options\n",
      "  driver = webdriver.Chrome(r'D:\\chromedriver.exe',chrome_options=option)\n"
     ]
    },
    {
     "ename": "ValueError",
     "evalue": "invalid literal for int() with base 10: '檢舉'",
     "output_type": "error",
     "traceback": [
      "\u001b[1;31m---------------------------------------------------------------------------\u001b[0m",
      "\u001b[1;31mValueError\u001b[0m                                Traceback (most recent call last)",
      "\u001b[1;32m<ipython-input-23-6d45426248dd>\u001b[0m in \u001b[0;36m<module>\u001b[1;34m\u001b[0m\n\u001b[0;32m      1\u001b[0m \u001b[0murl1\u001b[0m \u001b[1;33m=\u001b[0m \u001b[1;34m'https://movies.yahoo.com.tw/movieinfo_main/%E6%88%80%E6%84%9B%E5%A5%BD%E5%A5%BD%E8%AA%AA-love-talk-10964'\u001b[0m\u001b[1;33m\u001b[0m\u001b[1;33m\u001b[0m\u001b[0m\n\u001b[1;32m----> 2\u001b[1;33m \u001b[0mtest1\u001b[0m \u001b[1;33m=\u001b[0m \u001b[0myahoo_movie\u001b[0m\u001b[1;33m(\u001b[0m\u001b[0murl1\u001b[0m\u001b[1;33m)\u001b[0m\u001b[1;33m\u001b[0m\u001b[1;33m\u001b[0m\u001b[0m\n\u001b[0m",
      "\u001b[1;32m<ipython-input-22-91a42dcf71e5>\u001b[0m in \u001b[0;36myahoo_movie\u001b[1;34m(url)\u001b[0m\n\u001b[0;32m     14\u001b[0m     \u001b[0mtime\u001b[0m\u001b[1;33m.\u001b[0m\u001b[0msleep\u001b[0m\u001b[1;33m(\u001b[0m\u001b[1;36m3\u001b[0m\u001b[1;33m)\u001b[0m\u001b[1;33m\u001b[0m\u001b[1;33m\u001b[0m\u001b[0m\n\u001b[0;32m     15\u001b[0m     \u001b[0msoup\u001b[0m \u001b[1;33m=\u001b[0m \u001b[0mBeautifulSoup\u001b[0m\u001b[1;33m(\u001b[0m\u001b[0mdriver\u001b[0m\u001b[1;33m.\u001b[0m\u001b[0mpage_source\u001b[0m\u001b[1;33m,\u001b[0m \u001b[1;34m'html.parser'\u001b[0m\u001b[1;33m)\u001b[0m\u001b[1;33m\u001b[0m\u001b[1;33m\u001b[0m\u001b[0m\n\u001b[1;32m---> 16\u001b[1;33m     \u001b[0mpage\u001b[0m \u001b[1;33m=\u001b[0m \u001b[0mint\u001b[0m\u001b[1;33m(\u001b[0m\u001b[0msoup\u001b[0m\u001b[1;33m.\u001b[0m\u001b[0mselect\u001b[0m\u001b[1;33m(\u001b[0m\u001b[1;34m'li a'\u001b[0m\u001b[1;33m)\u001b[0m\u001b[1;33m[\u001b[0m\u001b[1;33m-\u001b[0m\u001b[1;36m2\u001b[0m\u001b[1;33m]\u001b[0m\u001b[1;33m.\u001b[0m\u001b[0mtext\u001b[0m\u001b[1;33m)\u001b[0m\u001b[1;33m\u001b[0m\u001b[1;33m\u001b[0m\u001b[0m\n\u001b[0m\u001b[0;32m     17\u001b[0m \u001b[1;33m\u001b[0m\u001b[0m\n\u001b[0;32m     18\u001b[0m     \u001b[0mtstart\u001b[0m \u001b[1;33m=\u001b[0m \u001b[0mtime\u001b[0m\u001b[1;33m.\u001b[0m\u001b[0mtime\u001b[0m\u001b[1;33m(\u001b[0m\u001b[1;33m)\u001b[0m\u001b[1;33m\u001b[0m\u001b[1;33m\u001b[0m\u001b[0m\n",
      "\u001b[1;31mValueError\u001b[0m: invalid literal for int() with base 10: '檢舉'"
     ]
    }
   ],
   "source": [
    "url1 = 'https://movies.yahoo.com.tw/movieinfo_main/%E6%88%80%E6%84%9B%E5%A5%BD%E5%A5%BD%E8%AA%AA-love-talk-10964'\n",
    "test1 = yahoo_movie(url1)"
   ]
  },
  {
   "cell_type": "markdown",
   "metadata": {},
   "source": [
    "## 同學麥娜絲"
   ]
  },
  {
   "cell_type": "code",
   "execution_count": 24,
   "metadata": {},
   "outputs": [
    {
     "name": "stderr",
     "output_type": "stream",
     "text": [
      "<ipython-input-22-91a42dcf71e5>:5: DeprecationWarning: use options instead of chrome_options\n",
      "  driver = webdriver.Chrome(r'D:\\chromedriver.exe',chrome_options=option)\n"
     ]
    },
    {
     "name": "stdout",
     "output_type": "stream",
     "text": [
      "Finish !\n",
      "It runs 51.9758 sec\n",
      "-------------------------------------------------------\n",
      "Pages: 11 \n",
      "Comment: 109\n",
      "Ratting: 109\n",
      "-------------------------------------------------------\n",
      "you can print df1, comment, and rating to see the result\n"
     ]
    }
   ],
   "source": [
    "url2 = 'https://movies.yahoo.com.tw/movieinfo_main/%E5%90%8C%E5%AD%B8%E9%BA%A5%E5%A8%9C%E7%B5%B2-classmates-minus-10935'\n",
    "test2 = yahoo_movie(url2)"
   ]
  },
  {
   "cell_type": "markdown",
   "metadata": {},
   "source": [
    "## 媽!我阿榮啦"
   ]
  },
  {
   "cell_type": "code",
   "execution_count": 25,
   "metadata": {},
   "outputs": [
    {
     "name": "stderr",
     "output_type": "stream",
     "text": [
      "<ipython-input-22-91a42dcf71e5>:5: DeprecationWarning: use options instead of chrome_options\n",
      "  driver = webdriver.Chrome(r'D:\\chromedriver.exe',chrome_options=option)\n"
     ]
    },
    {
     "ename": "ValueError",
     "evalue": "invalid literal for int() with base 10: '檢舉'",
     "output_type": "error",
     "traceback": [
      "\u001b[1;31m---------------------------------------------------------------------------\u001b[0m",
      "\u001b[1;31mValueError\u001b[0m                                Traceback (most recent call last)",
      "\u001b[1;32m<ipython-input-25-8aa0d56ead31>\u001b[0m in \u001b[0;36m<module>\u001b[1;34m\u001b[0m\n\u001b[0;32m      1\u001b[0m \u001b[0murl3\u001b[0m \u001b[1;33m=\u001b[0m \u001b[1;34m'https://movies.yahoo.com.tw/movieinfo_main/%E5%AA%BD-%E6%88%91%E9%98%BF%E6%A6%AE%E5%95%A6-eclipse-10646'\u001b[0m\u001b[1;33m\u001b[0m\u001b[1;33m\u001b[0m\u001b[0m\n\u001b[1;32m----> 2\u001b[1;33m \u001b[0mtest3\u001b[0m \u001b[1;33m=\u001b[0m \u001b[0myahoo_movie\u001b[0m\u001b[1;33m(\u001b[0m\u001b[0murl3\u001b[0m\u001b[1;33m)\u001b[0m\u001b[1;33m\u001b[0m\u001b[1;33m\u001b[0m\u001b[0m\n\u001b[0m",
      "\u001b[1;32m<ipython-input-22-91a42dcf71e5>\u001b[0m in \u001b[0;36myahoo_movie\u001b[1;34m(url)\u001b[0m\n\u001b[0;32m     14\u001b[0m     \u001b[0mtime\u001b[0m\u001b[1;33m.\u001b[0m\u001b[0msleep\u001b[0m\u001b[1;33m(\u001b[0m\u001b[1;36m3\u001b[0m\u001b[1;33m)\u001b[0m\u001b[1;33m\u001b[0m\u001b[1;33m\u001b[0m\u001b[0m\n\u001b[0;32m     15\u001b[0m     \u001b[0msoup\u001b[0m \u001b[1;33m=\u001b[0m \u001b[0mBeautifulSoup\u001b[0m\u001b[1;33m(\u001b[0m\u001b[0mdriver\u001b[0m\u001b[1;33m.\u001b[0m\u001b[0mpage_source\u001b[0m\u001b[1;33m,\u001b[0m \u001b[1;34m'html.parser'\u001b[0m\u001b[1;33m)\u001b[0m\u001b[1;33m\u001b[0m\u001b[1;33m\u001b[0m\u001b[0m\n\u001b[1;32m---> 16\u001b[1;33m     \u001b[0mpage\u001b[0m \u001b[1;33m=\u001b[0m \u001b[0mint\u001b[0m\u001b[1;33m(\u001b[0m\u001b[0msoup\u001b[0m\u001b[1;33m.\u001b[0m\u001b[0mselect\u001b[0m\u001b[1;33m(\u001b[0m\u001b[1;34m'li a'\u001b[0m\u001b[1;33m)\u001b[0m\u001b[1;33m[\u001b[0m\u001b[1;33m-\u001b[0m\u001b[1;36m2\u001b[0m\u001b[1;33m]\u001b[0m\u001b[1;33m.\u001b[0m\u001b[0mtext\u001b[0m\u001b[1;33m)\u001b[0m\u001b[1;33m\u001b[0m\u001b[1;33m\u001b[0m\u001b[0m\n\u001b[0m\u001b[0;32m     17\u001b[0m \u001b[1;33m\u001b[0m\u001b[0m\n\u001b[0;32m     18\u001b[0m     \u001b[0mtstart\u001b[0m \u001b[1;33m=\u001b[0m \u001b[0mtime\u001b[0m\u001b[1;33m.\u001b[0m\u001b[0mtime\u001b[0m\u001b[1;33m(\u001b[0m\u001b[1;33m)\u001b[0m\u001b[1;33m\u001b[0m\u001b[1;33m\u001b[0m\u001b[0m\n",
      "\u001b[1;31mValueError\u001b[0m: invalid literal for int() with base 10: '檢舉'"
     ]
    }
   ],
   "source": [
    "url3 = 'https://movies.yahoo.com.tw/movieinfo_main/%E5%AA%BD-%E6%88%91%E9%98%BF%E6%A6%AE%E5%95%A6-eclipse-10646'\n",
    "test3 = yahoo_movie(url3)"
   ]
  },
  {
   "cell_type": "markdown",
   "metadata": {},
   "source": [
    "## 驚夢49天"
   ]
  },
  {
   "cell_type": "code",
   "execution_count": 26,
   "metadata": {},
   "outputs": [
    {
     "name": "stderr",
     "output_type": "stream",
     "text": [
      "<ipython-input-22-91a42dcf71e5>:5: DeprecationWarning: use options instead of chrome_options\n",
      "  driver = webdriver.Chrome(r'D:\\chromedriver.exe',chrome_options=option)\n"
     ]
    },
    {
     "name": "stdout",
     "output_type": "stream",
     "text": [
      "Finish !\n",
      "It runs 19.2657 sec\n",
      "-------------------------------------------------------\n",
      "Pages: 3 \n",
      "Comment: 22\n",
      "Ratting: 22\n",
      "-------------------------------------------------------\n",
      "you can print df1, comment, and rating to see the result\n"
     ]
    }
   ],
   "source": [
    "url4 = 'https://movies.yahoo.com.tw/movieinfo_main/%E9%A9%9A%E5%A4%A249%E5%A4%A9-49-days-10696'\n",
    "test4 = yahoo_movie(url4)"
   ]
  },
  {
   "cell_type": "markdown",
   "metadata": {},
   "source": [
    "## 破處"
   ]
  },
  {
   "cell_type": "code",
   "execution_count": 27,
   "metadata": {},
   "outputs": [
    {
     "name": "stderr",
     "output_type": "stream",
     "text": [
      "<ipython-input-22-91a42dcf71e5>:5: DeprecationWarning: use options instead of chrome_options\n",
      "  driver = webdriver.Chrome(r'D:\\chromedriver.exe',chrome_options=option)\n"
     ]
    },
    {
     "name": "stdout",
     "output_type": "stream",
     "text": [
      "Finish !\n",
      "It runs 37.9399 sec\n",
      "-------------------------------------------------------\n",
      "Pages: 9 \n",
      "Comment: 88\n",
      "Ratting: 88\n",
      "-------------------------------------------------------\n",
      "you can print df1, comment, and rating to see the result\n"
     ]
    }
   ],
   "source": [
    "url5 = 'https://movies.yahoo.com.tw/movieinfo_main/%E7%A0%B4%E8%99%95-leaving-virginia-10641'\n",
    "test5 = yahoo_movie(url5)"
   ]
  },
  {
   "cell_type": "markdown",
   "metadata": {},
   "source": [
    "## 打噴嚏"
   ]
  },
  {
   "cell_type": "code",
   "execution_count": 28,
   "metadata": {},
   "outputs": [
    {
     "name": "stderr",
     "output_type": "stream",
     "text": [
      "<ipython-input-22-91a42dcf71e5>:5: DeprecationWarning: use options instead of chrome_options\n",
      "  driver = webdriver.Chrome(r'D:\\chromedriver.exe',chrome_options=option)\n"
     ]
    },
    {
     "name": "stdout",
     "output_type": "stream",
     "text": [
      "Finish !\n",
      "It runs 63.7790 sec\n",
      "-------------------------------------------------------\n",
      "Pages: 15 \n",
      "Comment: 145\n",
      "Ratting: 145\n",
      "-------------------------------------------------------\n",
      "you can print df1, comment, and rating to see the result\n"
     ]
    }
   ],
   "source": [
    "url6 = 'https://movies.yahoo.com.tw/movieinfo_main/%E6%89%93%E5%99%B4%E5%9A%8F-a-choo-5350'\n",
    "test6 = yahoo_movie(url6)"
   ]
  },
  {
   "cell_type": "markdown",
   "metadata": {},
   "source": [
    "## 野雀之師"
   ]
  },
  {
   "cell_type": "code",
   "execution_count": 29,
   "metadata": {},
   "outputs": [
    {
     "name": "stderr",
     "output_type": "stream",
     "text": [
      "<ipython-input-22-91a42dcf71e5>:5: DeprecationWarning: use options instead of chrome_options\n",
      "  driver = webdriver.Chrome(r'D:\\chromedriver.exe',chrome_options=option)\n"
     ]
    },
    {
     "ename": "ValueError",
     "evalue": "invalid literal for int() with base 10: '時刻表'",
     "output_type": "error",
     "traceback": [
      "\u001b[1;31m---------------------------------------------------------------------------\u001b[0m",
      "\u001b[1;31mValueError\u001b[0m                                Traceback (most recent call last)",
      "\u001b[1;32m<ipython-input-29-ed5c87830079>\u001b[0m in \u001b[0;36m<module>\u001b[1;34m\u001b[0m\n\u001b[0;32m      1\u001b[0m \u001b[0murl7\u001b[0m \u001b[1;33m=\u001b[0m \u001b[1;34m'https://movies.yahoo.com.tw/movieinfo_main/%E9%87%8E%E9%9B%80%E4%B9%8B%E8%A9%A9-wild-sparrow-10808'\u001b[0m\u001b[1;33m\u001b[0m\u001b[1;33m\u001b[0m\u001b[0m\n\u001b[1;32m----> 2\u001b[1;33m \u001b[0mtest7\u001b[0m \u001b[1;33m=\u001b[0m \u001b[0myahoo_movie\u001b[0m\u001b[1;33m(\u001b[0m\u001b[0murl7\u001b[0m\u001b[1;33m)\u001b[0m\u001b[1;33m\u001b[0m\u001b[1;33m\u001b[0m\u001b[0m\n\u001b[0m",
      "\u001b[1;32m<ipython-input-22-91a42dcf71e5>\u001b[0m in \u001b[0;36myahoo_movie\u001b[1;34m(url)\u001b[0m\n\u001b[0;32m     14\u001b[0m     \u001b[0mtime\u001b[0m\u001b[1;33m.\u001b[0m\u001b[0msleep\u001b[0m\u001b[1;33m(\u001b[0m\u001b[1;36m3\u001b[0m\u001b[1;33m)\u001b[0m\u001b[1;33m\u001b[0m\u001b[1;33m\u001b[0m\u001b[0m\n\u001b[0;32m     15\u001b[0m     \u001b[0msoup\u001b[0m \u001b[1;33m=\u001b[0m \u001b[0mBeautifulSoup\u001b[0m\u001b[1;33m(\u001b[0m\u001b[0mdriver\u001b[0m\u001b[1;33m.\u001b[0m\u001b[0mpage_source\u001b[0m\u001b[1;33m,\u001b[0m \u001b[1;34m'html.parser'\u001b[0m\u001b[1;33m)\u001b[0m\u001b[1;33m\u001b[0m\u001b[1;33m\u001b[0m\u001b[0m\n\u001b[1;32m---> 16\u001b[1;33m     \u001b[0mpage\u001b[0m \u001b[1;33m=\u001b[0m \u001b[0mint\u001b[0m\u001b[1;33m(\u001b[0m\u001b[0msoup\u001b[0m\u001b[1;33m.\u001b[0m\u001b[0mselect\u001b[0m\u001b[1;33m(\u001b[0m\u001b[1;34m'li a'\u001b[0m\u001b[1;33m)\u001b[0m\u001b[1;33m[\u001b[0m\u001b[1;33m-\u001b[0m\u001b[1;36m2\u001b[0m\u001b[1;33m]\u001b[0m\u001b[1;33m.\u001b[0m\u001b[0mtext\u001b[0m\u001b[1;33m)\u001b[0m\u001b[1;33m\u001b[0m\u001b[1;33m\u001b[0m\u001b[0m\n\u001b[0m\u001b[0;32m     17\u001b[0m \u001b[1;33m\u001b[0m\u001b[0m\n\u001b[0;32m     18\u001b[0m     \u001b[0mtstart\u001b[0m \u001b[1;33m=\u001b[0m \u001b[0mtime\u001b[0m\u001b[1;33m.\u001b[0m\u001b[0mtime\u001b[0m\u001b[1;33m(\u001b[0m\u001b[1;33m)\u001b[0m\u001b[1;33m\u001b[0m\u001b[1;33m\u001b[0m\u001b[0m\n",
      "\u001b[1;31mValueError\u001b[0m: invalid literal for int() with base 10: '時刻表'"
     ]
    }
   ],
   "source": [
    "url7 = 'https://movies.yahoo.com.tw/movieinfo_main/%E9%87%8E%E9%9B%80%E4%B9%8B%E8%A9%A9-wild-sparrow-10808'\n",
    "test7 = yahoo_movie(url7)"
   ]
  },
  {
   "cell_type": "markdown",
   "metadata": {},
   "source": [
    "## 怪胎"
   ]
  },
  {
   "cell_type": "code",
   "execution_count": 30,
   "metadata": {},
   "outputs": [
    {
     "name": "stderr",
     "output_type": "stream",
     "text": [
      "<ipython-input-22-91a42dcf71e5>:5: DeprecationWarning: use options instead of chrome_options\n",
      "  driver = webdriver.Chrome(r'D:\\chromedriver.exe',chrome_options=option)\n"
     ]
    },
    {
     "name": "stdout",
     "output_type": "stream",
     "text": [
      "Finish !\n",
      "It runs 38.6331 sec\n",
      "-------------------------------------------------------\n",
      "Pages: 8 \n",
      "Comment: 78\n",
      "Ratting: 78\n",
      "-------------------------------------------------------\n",
      "you can print df1, comment, and rating to see the result\n"
     ]
    }
   ],
   "source": [
    "url8 = 'https://movies.yahoo.com.tw/movieinfo_main/%E6%80%AA%E8%83%8E-i-weir-do-10733'\n",
    "test8 = yahoo_movie(url8)"
   ]
  },
  {
   "cell_type": "markdown",
   "metadata": {},
   "source": [
    "## 哈囉少女"
   ]
  },
  {
   "cell_type": "code",
   "execution_count": 31,
   "metadata": {},
   "outputs": [
    {
     "name": "stderr",
     "output_type": "stream",
     "text": [
      "<ipython-input-22-91a42dcf71e5>:5: DeprecationWarning: use options instead of chrome_options\n",
      "  driver = webdriver.Chrome(r'D:\\chromedriver.exe',chrome_options=option)\n"
     ]
    },
    {
     "name": "stdout",
     "output_type": "stream",
     "text": [
      "Finish !\n",
      "It runs 7.3373 sec\n",
      "-------------------------------------------------------\n",
      "Pages: 2 \n",
      "Comment: 16\n",
      "Ratting: 16\n",
      "-------------------------------------------------------\n",
      "you can print df1, comment, and rating to see the result\n"
     ]
    }
   ],
   "source": [
    "url9 = 'https://movies.yahoo.com.tw/movieinfo_main/%E5%93%88%E5%9B%89%E5%B0%91%E5%A5%B3-girls-revenge-10780'\n",
    "test9 = yahoo_movie(url9)"
   ]
  },
  {
   "cell_type": "markdown",
   "metadata": {},
   "source": [
    "## 阿紫"
   ]
  },
  {
   "cell_type": "code",
   "execution_count": 32,
   "metadata": {},
   "outputs": [
    {
     "name": "stderr",
     "output_type": "stream",
     "text": [
      "<ipython-input-22-91a42dcf71e5>:5: DeprecationWarning: use options instead of chrome_options\n",
      "  driver = webdriver.Chrome(r'D:\\chromedriver.exe',chrome_options=option)\n"
     ]
    },
    {
     "ename": "ValueError",
     "evalue": "invalid literal for int() with base 10: '\\n                  熱門'",
     "output_type": "error",
     "traceback": [
      "\u001b[1;31m---------------------------------------------------------------------------\u001b[0m",
      "\u001b[1;31mValueError\u001b[0m                                Traceback (most recent call last)",
      "\u001b[1;32m<ipython-input-32-2cb795f4eb76>\u001b[0m in \u001b[0;36m<module>\u001b[1;34m\u001b[0m\n\u001b[0;32m      1\u001b[0m \u001b[0murl10\u001b[0m \u001b[1;33m=\u001b[0m \u001b[1;34m'https://movies.yahoo.com.tw/movieinfo_main/%E9%98%BF%E7%B4%AB-the-good-daughter-10828'\u001b[0m\u001b[1;33m\u001b[0m\u001b[1;33m\u001b[0m\u001b[0m\n\u001b[1;32m----> 2\u001b[1;33m \u001b[0mtest10\u001b[0m\u001b[1;33m=\u001b[0m \u001b[0myahoo_movie\u001b[0m\u001b[1;33m(\u001b[0m\u001b[0murl10\u001b[0m\u001b[1;33m)\u001b[0m\u001b[1;33m\u001b[0m\u001b[1;33m\u001b[0m\u001b[0m\n\u001b[0m",
      "\u001b[1;32m<ipython-input-22-91a42dcf71e5>\u001b[0m in \u001b[0;36myahoo_movie\u001b[1;34m(url)\u001b[0m\n\u001b[0;32m     14\u001b[0m     \u001b[0mtime\u001b[0m\u001b[1;33m.\u001b[0m\u001b[0msleep\u001b[0m\u001b[1;33m(\u001b[0m\u001b[1;36m3\u001b[0m\u001b[1;33m)\u001b[0m\u001b[1;33m\u001b[0m\u001b[1;33m\u001b[0m\u001b[0m\n\u001b[0;32m     15\u001b[0m     \u001b[0msoup\u001b[0m \u001b[1;33m=\u001b[0m \u001b[0mBeautifulSoup\u001b[0m\u001b[1;33m(\u001b[0m\u001b[0mdriver\u001b[0m\u001b[1;33m.\u001b[0m\u001b[0mpage_source\u001b[0m\u001b[1;33m,\u001b[0m \u001b[1;34m'html.parser'\u001b[0m\u001b[1;33m)\u001b[0m\u001b[1;33m\u001b[0m\u001b[1;33m\u001b[0m\u001b[0m\n\u001b[1;32m---> 16\u001b[1;33m     \u001b[0mpage\u001b[0m \u001b[1;33m=\u001b[0m \u001b[0mint\u001b[0m\u001b[1;33m(\u001b[0m\u001b[0msoup\u001b[0m\u001b[1;33m.\u001b[0m\u001b[0mselect\u001b[0m\u001b[1;33m(\u001b[0m\u001b[1;34m'li a'\u001b[0m\u001b[1;33m)\u001b[0m\u001b[1;33m[\u001b[0m\u001b[1;33m-\u001b[0m\u001b[1;36m2\u001b[0m\u001b[1;33m]\u001b[0m\u001b[1;33m.\u001b[0m\u001b[0mtext\u001b[0m\u001b[1;33m)\u001b[0m\u001b[1;33m\u001b[0m\u001b[1;33m\u001b[0m\u001b[0m\n\u001b[0m\u001b[0;32m     17\u001b[0m \u001b[1;33m\u001b[0m\u001b[0m\n\u001b[0;32m     18\u001b[0m     \u001b[0mtstart\u001b[0m \u001b[1;33m=\u001b[0m \u001b[0mtime\u001b[0m\u001b[1;33m.\u001b[0m\u001b[0mtime\u001b[0m\u001b[1;33m(\u001b[0m\u001b[1;33m)\u001b[0m\u001b[1;33m\u001b[0m\u001b[1;33m\u001b[0m\u001b[0m\n",
      "\u001b[1;31mValueError\u001b[0m: invalid literal for int() with base 10: '\\n                  熱門'"
     ]
    }
   ],
   "source": [
    "url10 = 'https://movies.yahoo.com.tw/movieinfo_main/%E9%98%BF%E7%B4%AB-the-good-daughter-10828'\n",
    "test10= yahoo_movie(url10)"
   ]
  },
  {
   "cell_type": "markdown",
   "metadata": {},
   "source": [
    "## 逆者"
   ]
  },
  {
   "cell_type": "code",
   "execution_count": 33,
   "metadata": {},
   "outputs": [
    {
     "name": "stderr",
     "output_type": "stream",
     "text": [
      "<ipython-input-22-91a42dcf71e5>:5: DeprecationWarning: use options instead of chrome_options\n",
      "  driver = webdriver.Chrome(r'D:\\chromedriver.exe',chrome_options=option)\n"
     ]
    },
    {
     "ename": "ValueError",
     "evalue": "invalid literal for int() with base 10: '檢舉'",
     "output_type": "error",
     "traceback": [
      "\u001b[1;31m---------------------------------------------------------------------------\u001b[0m",
      "\u001b[1;31mValueError\u001b[0m                                Traceback (most recent call last)",
      "\u001b[1;32m<ipython-input-33-e582b4d0e3e6>\u001b[0m in \u001b[0;36m<module>\u001b[1;34m\u001b[0m\n\u001b[0;32m      1\u001b[0m \u001b[0murl11\u001b[0m \u001b[1;33m=\u001b[0m \u001b[1;34m'https://movies.yahoo.com.tw/movieinfo_main/%E9%80%86%E8%80%85-the-road-less-traveled-10875'\u001b[0m\u001b[1;33m\u001b[0m\u001b[1;33m\u001b[0m\u001b[0m\n\u001b[1;32m----> 2\u001b[1;33m \u001b[0mtest11\u001b[0m \u001b[1;33m=\u001b[0m \u001b[0myahoo_movie\u001b[0m\u001b[1;33m(\u001b[0m\u001b[0murl11\u001b[0m\u001b[1;33m)\u001b[0m\u001b[1;33m\u001b[0m\u001b[1;33m\u001b[0m\u001b[0m\n\u001b[0m",
      "\u001b[1;32m<ipython-input-22-91a42dcf71e5>\u001b[0m in \u001b[0;36myahoo_movie\u001b[1;34m(url)\u001b[0m\n\u001b[0;32m     14\u001b[0m     \u001b[0mtime\u001b[0m\u001b[1;33m.\u001b[0m\u001b[0msleep\u001b[0m\u001b[1;33m(\u001b[0m\u001b[1;36m3\u001b[0m\u001b[1;33m)\u001b[0m\u001b[1;33m\u001b[0m\u001b[1;33m\u001b[0m\u001b[0m\n\u001b[0;32m     15\u001b[0m     \u001b[0msoup\u001b[0m \u001b[1;33m=\u001b[0m \u001b[0mBeautifulSoup\u001b[0m\u001b[1;33m(\u001b[0m\u001b[0mdriver\u001b[0m\u001b[1;33m.\u001b[0m\u001b[0mpage_source\u001b[0m\u001b[1;33m,\u001b[0m \u001b[1;34m'html.parser'\u001b[0m\u001b[1;33m)\u001b[0m\u001b[1;33m\u001b[0m\u001b[1;33m\u001b[0m\u001b[0m\n\u001b[1;32m---> 16\u001b[1;33m     \u001b[0mpage\u001b[0m \u001b[1;33m=\u001b[0m \u001b[0mint\u001b[0m\u001b[1;33m(\u001b[0m\u001b[0msoup\u001b[0m\u001b[1;33m.\u001b[0m\u001b[0mselect\u001b[0m\u001b[1;33m(\u001b[0m\u001b[1;34m'li a'\u001b[0m\u001b[1;33m)\u001b[0m\u001b[1;33m[\u001b[0m\u001b[1;33m-\u001b[0m\u001b[1;36m2\u001b[0m\u001b[1;33m]\u001b[0m\u001b[1;33m.\u001b[0m\u001b[0mtext\u001b[0m\u001b[1;33m)\u001b[0m\u001b[1;33m\u001b[0m\u001b[1;33m\u001b[0m\u001b[0m\n\u001b[0m\u001b[0;32m     17\u001b[0m \u001b[1;33m\u001b[0m\u001b[0m\n\u001b[0;32m     18\u001b[0m     \u001b[0mtstart\u001b[0m \u001b[1;33m=\u001b[0m \u001b[0mtime\u001b[0m\u001b[1;33m.\u001b[0m\u001b[0mtime\u001b[0m\u001b[1;33m(\u001b[0m\u001b[1;33m)\u001b[0m\u001b[1;33m\u001b[0m\u001b[1;33m\u001b[0m\u001b[0m\n",
      "\u001b[1;31mValueError\u001b[0m: invalid literal for int() with base 10: '檢舉'"
     ]
    }
   ],
   "source": [
    "url11 = 'https://movies.yahoo.com.tw/movieinfo_main/%E9%80%86%E8%80%85-the-road-less-traveled-10875'\n",
    "test11 = yahoo_movie(url11)"
   ]
  },
  {
   "cell_type": "markdown",
   "metadata": {},
   "source": [
    "## 逃出立法院"
   ]
  },
  {
   "cell_type": "code",
   "execution_count": 34,
   "metadata": {},
   "outputs": [
    {
     "name": "stderr",
     "output_type": "stream",
     "text": [
      "<ipython-input-22-91a42dcf71e5>:5: DeprecationWarning: use options instead of chrome_options\n",
      "  driver = webdriver.Chrome(r'D:\\chromedriver.exe',chrome_options=option)\n"
     ]
    },
    {
     "name": "stdout",
     "output_type": "stream",
     "text": [
      "Finish !\n",
      "It runs 83.7147 sec\n",
      "-------------------------------------------------------\n",
      "Pages: 15 \n",
      "Comment: 146\n",
      "Ratting: 146\n",
      "-------------------------------------------------------\n",
      "you can print df1, comment, and rating to see the result\n"
     ]
    }
   ],
   "source": [
    "url12 = 'https://movies.yahoo.com.tw/movieinfo_main/%E9%80%83%E5%87%BA%E7%AB%8B%E6%B3%95%E9%99%A2-get-the-hell-out-10535'\n",
    "test12 = yahoo_movie(url12)"
   ]
  },
  {
   "cell_type": "markdown",
   "metadata": {},
   "source": [
    "## 我的兒子是死刑犯"
   ]
  },
  {
   "cell_type": "code",
   "execution_count": 35,
   "metadata": {},
   "outputs": [
    {
     "name": "stderr",
     "output_type": "stream",
     "text": [
      "<ipython-input-22-91a42dcf71e5>:5: DeprecationWarning: use options instead of chrome_options\n",
      "  driver = webdriver.Chrome(r'D:\\chromedriver.exe',chrome_options=option)\n"
     ]
    },
    {
     "ename": "ValueError",
     "evalue": "invalid literal for int() with base 10: '檢舉'",
     "output_type": "error",
     "traceback": [
      "\u001b[1;31m---------------------------------------------------------------------------\u001b[0m",
      "\u001b[1;31mValueError\u001b[0m                                Traceback (most recent call last)",
      "\u001b[1;32m<ipython-input-35-1e5bceaed1da>\u001b[0m in \u001b[0;36m<module>\u001b[1;34m\u001b[0m\n\u001b[0;32m      1\u001b[0m \u001b[0murl13\u001b[0m \u001b[1;33m=\u001b[0m \u001b[1;34m'https://movies.yahoo.com.tw/movieinfo_main/%E6%88%91%E7%9A%84%E5%85%92%E5%AD%90%E6%98%AF%E6%AD%BB%E5%88%91%E7%8A%AF-me-and-my-condemned-son-10782'\u001b[0m\u001b[1;33m\u001b[0m\u001b[1;33m\u001b[0m\u001b[0m\n\u001b[1;32m----> 2\u001b[1;33m \u001b[0mtest13\u001b[0m \u001b[1;33m=\u001b[0m \u001b[0myahoo_movie\u001b[0m\u001b[1;33m(\u001b[0m\u001b[0murl13\u001b[0m\u001b[1;33m)\u001b[0m\u001b[1;33m\u001b[0m\u001b[1;33m\u001b[0m\u001b[0m\n\u001b[0m",
      "\u001b[1;32m<ipython-input-22-91a42dcf71e5>\u001b[0m in \u001b[0;36myahoo_movie\u001b[1;34m(url)\u001b[0m\n\u001b[0;32m     14\u001b[0m     \u001b[0mtime\u001b[0m\u001b[1;33m.\u001b[0m\u001b[0msleep\u001b[0m\u001b[1;33m(\u001b[0m\u001b[1;36m3\u001b[0m\u001b[1;33m)\u001b[0m\u001b[1;33m\u001b[0m\u001b[1;33m\u001b[0m\u001b[0m\n\u001b[0;32m     15\u001b[0m     \u001b[0msoup\u001b[0m \u001b[1;33m=\u001b[0m \u001b[0mBeautifulSoup\u001b[0m\u001b[1;33m(\u001b[0m\u001b[0mdriver\u001b[0m\u001b[1;33m.\u001b[0m\u001b[0mpage_source\u001b[0m\u001b[1;33m,\u001b[0m \u001b[1;34m'html.parser'\u001b[0m\u001b[1;33m)\u001b[0m\u001b[1;33m\u001b[0m\u001b[1;33m\u001b[0m\u001b[0m\n\u001b[1;32m---> 16\u001b[1;33m     \u001b[0mpage\u001b[0m \u001b[1;33m=\u001b[0m \u001b[0mint\u001b[0m\u001b[1;33m(\u001b[0m\u001b[0msoup\u001b[0m\u001b[1;33m.\u001b[0m\u001b[0mselect\u001b[0m\u001b[1;33m(\u001b[0m\u001b[1;34m'li a'\u001b[0m\u001b[1;33m)\u001b[0m\u001b[1;33m[\u001b[0m\u001b[1;33m-\u001b[0m\u001b[1;36m2\u001b[0m\u001b[1;33m]\u001b[0m\u001b[1;33m.\u001b[0m\u001b[0mtext\u001b[0m\u001b[1;33m)\u001b[0m\u001b[1;33m\u001b[0m\u001b[1;33m\u001b[0m\u001b[0m\n\u001b[0m\u001b[0;32m     17\u001b[0m \u001b[1;33m\u001b[0m\u001b[0m\n\u001b[0;32m     18\u001b[0m     \u001b[0mtstart\u001b[0m \u001b[1;33m=\u001b[0m \u001b[0mtime\u001b[0m\u001b[1;33m.\u001b[0m\u001b[0mtime\u001b[0m\u001b[1;33m(\u001b[0m\u001b[1;33m)\u001b[0m\u001b[1;33m\u001b[0m\u001b[1;33m\u001b[0m\u001b[0m\n",
      "\u001b[1;31mValueError\u001b[0m: invalid literal for int() with base 10: '檢舉'"
     ]
    }
   ],
   "source": [
    "url13 = 'https://movies.yahoo.com.tw/movieinfo_main/%E6%88%91%E7%9A%84%E5%85%92%E5%AD%90%E6%98%AF%E6%AD%BB%E5%88%91%E7%8A%AF-me-and-my-condemned-son-10782'\n",
    "test13 = yahoo_movie(url13)"
   ]
  },
  {
   "cell_type": "markdown",
   "metadata": {},
   "source": [
    "## 可不可以，你也剛好喜歡我"
   ]
  },
  {
   "cell_type": "code",
   "execution_count": 36,
   "metadata": {},
   "outputs": [
    {
     "name": "stderr",
     "output_type": "stream",
     "text": [
      "<ipython-input-22-91a42dcf71e5>:5: DeprecationWarning: use options instead of chrome_options\n",
      "  driver = webdriver.Chrome(r'D:\\chromedriver.exe',chrome_options=option)\n"
     ]
    },
    {
     "name": "stdout",
     "output_type": "stream",
     "text": [
      "Finish !\n",
      "It runs 187.5895 sec\n",
      "-------------------------------------------------------\n",
      "Pages: 43 \n",
      "Comment: 426\n",
      "Ratting: 426\n",
      "-------------------------------------------------------\n",
      "you can print df1, comment, and rating to see the result\n"
     ]
    }
   ],
   "source": [
    "url14 = 'https://movies.yahoo.com.tw/movieinfo_main/%E5%8F%AF%E4%B8%8D%E5%8F%AF%E4%BB%A5-%E4%BD%A0%E4%B9%9F%E5%89%9B%E5%A5%BD%E5%96%9C%E6%AD%A1%E6%88%91-do-you-love-me-as-i-love-you-10473'\n",
    "test14 = yahoo_movie(url14)"
   ]
  },
  {
   "cell_type": "markdown",
   "metadata": {},
   "source": [
    "## 初心"
   ]
  },
  {
   "cell_type": "code",
   "execution_count": 37,
   "metadata": {},
   "outputs": [
    {
     "name": "stderr",
     "output_type": "stream",
     "text": [
      "<ipython-input-22-91a42dcf71e5>:5: DeprecationWarning: use options instead of chrome_options\n",
      "  driver = webdriver.Chrome(r'D:\\chromedriver.exe',chrome_options=option)\n"
     ]
    },
    {
     "name": "stdout",
     "output_type": "stream",
     "text": [
      "Finish !\n",
      "It runs 7.3670 sec\n",
      "-------------------------------------------------------\n",
      "Pages: 2 \n",
      "Comment: 11\n",
      "Ratting: 11\n",
      "-------------------------------------------------------\n",
      "you can print df1, comment, and rating to see the result\n"
     ]
    }
   ],
   "source": [
    "url15 = 'https://movies.yahoo.com.tw/movieinfo_main/%E5%88%9D%E5%BF%83-andre-his-olive-tree-10837'\n",
    "test15 = yahoo_movie(url15)"
   ]
  },
  {
   "cell_type": "markdown",
   "metadata": {},
   "source": [
    "## 馗降：粽邪2"
   ]
  },
  {
   "cell_type": "code",
   "execution_count": 38,
   "metadata": {},
   "outputs": [
    {
     "name": "stderr",
     "output_type": "stream",
     "text": [
      "<ipython-input-22-91a42dcf71e5>:5: DeprecationWarning: use options instead of chrome_options\n",
      "  driver = webdriver.Chrome(r'D:\\chromedriver.exe',chrome_options=option)\n"
     ]
    },
    {
     "name": "stdout",
     "output_type": "stream",
     "text": [
      "Finish !\n",
      "It runs 107.1340 sec\n",
      "-------------------------------------------------------\n",
      "Pages: 24 \n",
      "Comment: 240\n",
      "Ratting: 240\n",
      "-------------------------------------------------------\n",
      "you can print df1, comment, and rating to see the result\n"
     ]
    }
   ],
   "source": [
    "url16 = 'https://movies.yahoo.com.tw/movieinfo_main/%E9%A6%97%E9%99%8D-%E7%B2%BD%E9%82%AA2-the-rope-curse-2-10787'\n",
    "test16 = yahoo_movie(url16)"
   ]
  },
  {
   "cell_type": "markdown",
   "metadata": {},
   "source": [
    "## 海霧"
   ]
  },
  {
   "cell_type": "code",
   "execution_count": 39,
   "metadata": {},
   "outputs": [
    {
     "name": "stderr",
     "output_type": "stream",
     "text": [
      "<ipython-input-22-91a42dcf71e5>:5: DeprecationWarning: use options instead of chrome_options\n",
      "  driver = webdriver.Chrome(r'D:\\chromedriver.exe',chrome_options=option)\n"
     ]
    },
    {
     "name": "stdout",
     "output_type": "stream",
     "text": [
      "Finish !\n",
      "It runs 66.8030 sec\n",
      "-------------------------------------------------------\n",
      "Pages: 16 \n",
      "Comment: 157\n",
      "Ratting: 157\n",
      "-------------------------------------------------------\n",
      "you can print df1, comment, and rating to see the result\n"
     ]
    }
   ],
   "source": [
    "url17 = 'https://movies.yahoo.com.tw/movieinfo_main/%E6%B5%B7%E9%9C%A7-abyssal-10872'\n",
    "test17 = yahoo_movie(url17)"
   ]
  },
  {
   "cell_type": "markdown",
   "metadata": {},
   "source": [
    "## 消失的情人節"
   ]
  },
  {
   "cell_type": "code",
   "execution_count": 40,
   "metadata": {},
   "outputs": [
    {
     "name": "stderr",
     "output_type": "stream",
     "text": [
      "<ipython-input-22-91a42dcf71e5>:5: DeprecationWarning: use options instead of chrome_options\n",
      "  driver = webdriver.Chrome(r'D:\\chromedriver.exe',chrome_options=option)\n"
     ]
    },
    {
     "name": "stdout",
     "output_type": "stream",
     "text": [
      "Finish !\n",
      "It runs 61.0558 sec\n",
      "-------------------------------------------------------\n",
      "Pages: 14 \n",
      "Comment: 140\n",
      "Ratting: 140\n",
      "-------------------------------------------------------\n",
      "you can print df1, comment, and rating to see the result\n"
     ]
    }
   ],
   "source": [
    "url18 = 'https://movies.yahoo.com.tw/movieinfo_main/%E6%B6%88%E5%A4%B1%E7%9A%84%E6%83%85%E4%BA%BA%E7%AF%80-my-missing-valentins-10870'\n",
    "test18 = yahoo_movie(url18)"
   ]
  },
  {
   "cell_type": "markdown",
   "metadata": {},
   "source": [
    "## 惡之畫"
   ]
  },
  {
   "cell_type": "code",
   "execution_count": 41,
   "metadata": {},
   "outputs": [
    {
     "name": "stderr",
     "output_type": "stream",
     "text": [
      "<ipython-input-22-91a42dcf71e5>:5: DeprecationWarning: use options instead of chrome_options\n",
      "  driver = webdriver.Chrome(r'D:\\chromedriver.exe',chrome_options=option)\n"
     ]
    },
    {
     "ename": "ValueError",
     "evalue": "invalid literal for int() with base 10: '檢舉'",
     "output_type": "error",
     "traceback": [
      "\u001b[1;31m---------------------------------------------------------------------------\u001b[0m",
      "\u001b[1;31mValueError\u001b[0m                                Traceback (most recent call last)",
      "\u001b[1;32m<ipython-input-41-1536f62e1421>\u001b[0m in \u001b[0;36m<module>\u001b[1;34m\u001b[0m\n\u001b[0;32m      1\u001b[0m \u001b[0murl19\u001b[0m \u001b[1;33m=\u001b[0m \u001b[1;34m'https://movies.yahoo.com.tw/movieinfo_main/%E6%83%A1%E4%B9%8B%E7%95%AB-the-painting-of-evil-10913'\u001b[0m\u001b[1;33m\u001b[0m\u001b[1;33m\u001b[0m\u001b[0m\n\u001b[1;32m----> 2\u001b[1;33m \u001b[0mtest19\u001b[0m \u001b[1;33m=\u001b[0m \u001b[0myahoo_movie\u001b[0m\u001b[1;33m(\u001b[0m\u001b[0murl19\u001b[0m\u001b[1;33m)\u001b[0m\u001b[1;33m\u001b[0m\u001b[1;33m\u001b[0m\u001b[0m\n\u001b[0m",
      "\u001b[1;32m<ipython-input-22-91a42dcf71e5>\u001b[0m in \u001b[0;36myahoo_movie\u001b[1;34m(url)\u001b[0m\n\u001b[0;32m     14\u001b[0m     \u001b[0mtime\u001b[0m\u001b[1;33m.\u001b[0m\u001b[0msleep\u001b[0m\u001b[1;33m(\u001b[0m\u001b[1;36m3\u001b[0m\u001b[1;33m)\u001b[0m\u001b[1;33m\u001b[0m\u001b[1;33m\u001b[0m\u001b[0m\n\u001b[0;32m     15\u001b[0m     \u001b[0msoup\u001b[0m \u001b[1;33m=\u001b[0m \u001b[0mBeautifulSoup\u001b[0m\u001b[1;33m(\u001b[0m\u001b[0mdriver\u001b[0m\u001b[1;33m.\u001b[0m\u001b[0mpage_source\u001b[0m\u001b[1;33m,\u001b[0m \u001b[1;34m'html.parser'\u001b[0m\u001b[1;33m)\u001b[0m\u001b[1;33m\u001b[0m\u001b[1;33m\u001b[0m\u001b[0m\n\u001b[1;32m---> 16\u001b[1;33m     \u001b[0mpage\u001b[0m \u001b[1;33m=\u001b[0m \u001b[0mint\u001b[0m\u001b[1;33m(\u001b[0m\u001b[0msoup\u001b[0m\u001b[1;33m.\u001b[0m\u001b[0mselect\u001b[0m\u001b[1;33m(\u001b[0m\u001b[1;34m'li a'\u001b[0m\u001b[1;33m)\u001b[0m\u001b[1;33m[\u001b[0m\u001b[1;33m-\u001b[0m\u001b[1;36m2\u001b[0m\u001b[1;33m]\u001b[0m\u001b[1;33m.\u001b[0m\u001b[0mtext\u001b[0m\u001b[1;33m)\u001b[0m\u001b[1;33m\u001b[0m\u001b[1;33m\u001b[0m\u001b[0m\n\u001b[0m\u001b[0;32m     17\u001b[0m \u001b[1;33m\u001b[0m\u001b[0m\n\u001b[0;32m     18\u001b[0m     \u001b[0mtstart\u001b[0m \u001b[1;33m=\u001b[0m \u001b[0mtime\u001b[0m\u001b[1;33m.\u001b[0m\u001b[0mtime\u001b[0m\u001b[1;33m(\u001b[0m\u001b[1;33m)\u001b[0m\u001b[1;33m\u001b[0m\u001b[1;33m\u001b[0m\u001b[0m\n",
      "\u001b[1;31mValueError\u001b[0m: invalid literal for int() with base 10: '檢舉'"
     ]
    }
   ],
   "source": [
    "url19 = 'https://movies.yahoo.com.tw/movieinfo_main/%E6%83%A1%E4%B9%8B%E7%95%AB-the-painting-of-evil-10913'\n",
    "test19 = yahoo_movie(url19)"
   ]
  },
  {
   "cell_type": "markdown",
   "metadata": {},
   "source": [
    "## 刻在你心底的名字"
   ]
  },
  {
   "cell_type": "code",
   "execution_count": 42,
   "metadata": {},
   "outputs": [
    {
     "name": "stderr",
     "output_type": "stream",
     "text": [
      "<ipython-input-22-91a42dcf71e5>:5: DeprecationWarning: use options instead of chrome_options\n",
      "  driver = webdriver.Chrome(r'D:\\chromedriver.exe',chrome_options=option)\n"
     ]
    },
    {
     "name": "stdout",
     "output_type": "stream",
     "text": [
      "Finish !\n",
      "It runs 106.0133 sec\n",
      "-------------------------------------------------------\n",
      "Pages: 26 \n",
      "Comment: 256\n",
      "Ratting: 256\n",
      "-------------------------------------------------------\n",
      "you can print df1, comment, and rating to see the result\n"
     ]
    }
   ],
   "source": [
    "url20 = 'https://movies.yahoo.com.tw/movieinfo_main/%E5%88%BB%E5%9C%A8%E4%BD%A0%E5%BF%83%E5%BA%95%E7%9A%84%E5%90%8D%E5%AD%97-your-name-engraved-herein-10902'\n",
    "test20 = yahoo_movie(url20)"
   ]
  },
  {
   "cell_type": "markdown",
   "metadata": {},
   "source": [
    "## 千年一問"
   ]
  },
  {
   "cell_type": "code",
   "execution_count": 43,
   "metadata": {},
   "outputs": [
    {
     "name": "stderr",
     "output_type": "stream",
     "text": [
      "<ipython-input-22-91a42dcf71e5>:5: DeprecationWarning: use options instead of chrome_options\n",
      "  driver = webdriver.Chrome(r'D:\\chromedriver.exe',chrome_options=option)\n"
     ]
    },
    {
     "ename": "ValueError",
     "evalue": "invalid literal for int() with base 10: '檢舉'",
     "output_type": "error",
     "traceback": [
      "\u001b[1;31m---------------------------------------------------------------------------\u001b[0m",
      "\u001b[1;31mValueError\u001b[0m                                Traceback (most recent call last)",
      "\u001b[1;32m<ipython-input-43-9aede31a9e63>\u001b[0m in \u001b[0;36m<module>\u001b[1;34m\u001b[0m\n\u001b[0;32m      1\u001b[0m \u001b[0murl21\u001b[0m \u001b[1;33m=\u001b[0m \u001b[1;34m'https://movies.yahoo.com.tw/movieinfo_main/%E5%8D%83%E5%B9%B4%E4%B8%80%E5%95%8F-chen-uen-10948'\u001b[0m\u001b[1;33m\u001b[0m\u001b[1;33m\u001b[0m\u001b[0m\n\u001b[1;32m----> 2\u001b[1;33m \u001b[0mtest21\u001b[0m \u001b[1;33m=\u001b[0m \u001b[0myahoo_movie\u001b[0m\u001b[1;33m(\u001b[0m\u001b[0murl21\u001b[0m\u001b[1;33m)\u001b[0m\u001b[1;33m\u001b[0m\u001b[1;33m\u001b[0m\u001b[0m\n\u001b[0m",
      "\u001b[1;32m<ipython-input-22-91a42dcf71e5>\u001b[0m in \u001b[0;36myahoo_movie\u001b[1;34m(url)\u001b[0m\n\u001b[0;32m     14\u001b[0m     \u001b[0mtime\u001b[0m\u001b[1;33m.\u001b[0m\u001b[0msleep\u001b[0m\u001b[1;33m(\u001b[0m\u001b[1;36m3\u001b[0m\u001b[1;33m)\u001b[0m\u001b[1;33m\u001b[0m\u001b[1;33m\u001b[0m\u001b[0m\n\u001b[0;32m     15\u001b[0m     \u001b[0msoup\u001b[0m \u001b[1;33m=\u001b[0m \u001b[0mBeautifulSoup\u001b[0m\u001b[1;33m(\u001b[0m\u001b[0mdriver\u001b[0m\u001b[1;33m.\u001b[0m\u001b[0mpage_source\u001b[0m\u001b[1;33m,\u001b[0m \u001b[1;34m'html.parser'\u001b[0m\u001b[1;33m)\u001b[0m\u001b[1;33m\u001b[0m\u001b[1;33m\u001b[0m\u001b[0m\n\u001b[1;32m---> 16\u001b[1;33m     \u001b[0mpage\u001b[0m \u001b[1;33m=\u001b[0m \u001b[0mint\u001b[0m\u001b[1;33m(\u001b[0m\u001b[0msoup\u001b[0m\u001b[1;33m.\u001b[0m\u001b[0mselect\u001b[0m\u001b[1;33m(\u001b[0m\u001b[1;34m'li a'\u001b[0m\u001b[1;33m)\u001b[0m\u001b[1;33m[\u001b[0m\u001b[1;33m-\u001b[0m\u001b[1;36m2\u001b[0m\u001b[1;33m]\u001b[0m\u001b[1;33m.\u001b[0m\u001b[0mtext\u001b[0m\u001b[1;33m)\u001b[0m\u001b[1;33m\u001b[0m\u001b[1;33m\u001b[0m\u001b[0m\n\u001b[0m\u001b[0;32m     17\u001b[0m \u001b[1;33m\u001b[0m\u001b[0m\n\u001b[0;32m     18\u001b[0m     \u001b[0mtstart\u001b[0m \u001b[1;33m=\u001b[0m \u001b[0mtime\u001b[0m\u001b[1;33m.\u001b[0m\u001b[0mtime\u001b[0m\u001b[1;33m(\u001b[0m\u001b[1;33m)\u001b[0m\u001b[1;33m\u001b[0m\u001b[1;33m\u001b[0m\u001b[0m\n",
      "\u001b[1;31mValueError\u001b[0m: invalid literal for int() with base 10: '檢舉'"
     ]
    }
   ],
   "source": [
    "url21 = 'https://movies.yahoo.com.tw/movieinfo_main/%E5%8D%83%E5%B9%B4%E4%B8%80%E5%95%8F-chen-uen-10948'\n",
    "test21 = yahoo_movie(url21)"
   ]
  },
  {
   "cell_type": "markdown",
   "metadata": {},
   "source": [
    "## 你的情歌"
   ]
  },
  {
   "cell_type": "code",
   "execution_count": 44,
   "metadata": {},
   "outputs": [
    {
     "name": "stderr",
     "output_type": "stream",
     "text": [
      "<ipython-input-22-91a42dcf71e5>:5: DeprecationWarning: use options instead of chrome_options\n",
      "  driver = webdriver.Chrome(r'D:\\chromedriver.exe',chrome_options=option)\n"
     ]
    },
    {
     "name": "stdout",
     "output_type": "stream",
     "text": [
      "Finish !\n",
      "It runs 125.7565 sec\n",
      "-------------------------------------------------------\n",
      "Pages: 28 \n",
      "Comment: 276\n",
      "Ratting: 276\n",
      "-------------------------------------------------------\n",
      "you can print df1, comment, and rating to see the result\n"
     ]
    }
   ],
   "source": [
    "url22 = 'https://movies.yahoo.com.tw/movieinfo_main/%E4%BD%A0%E7%9A%84%E6%83%85%E6%AD%8C-your-love-song-10407'\n",
    "test22 = yahoo_movie(url22)"
   ]
  },
  {
   "cell_type": "markdown",
   "metadata": {},
   "source": [
    "## 女鬼橋"
   ]
  },
  {
   "cell_type": "code",
   "execution_count": 45,
   "metadata": {},
   "outputs": [
    {
     "name": "stderr",
     "output_type": "stream",
     "text": [
      "<ipython-input-22-91a42dcf71e5>:5: DeprecationWarning: use options instead of chrome_options\n",
      "  driver = webdriver.Chrome(r'D:\\chromedriver.exe',chrome_options=option)\n"
     ]
    },
    {
     "name": "stdout",
     "output_type": "stream",
     "text": [
      "Finish !\n",
      "It runs 75.2007 sec\n",
      "-------------------------------------------------------\n",
      "Pages: 17 \n",
      "Comment: 170\n",
      "Ratting: 170\n",
      "-------------------------------------------------------\n",
      "you can print df1, comment, and rating to see the result\n"
     ]
    }
   ],
   "source": [
    "url23 = 'https://movies.yahoo.com.tw/movieinfo_main/%E5%A5%B3%E9%AC%BC%E6%A9%8B-the-bridge-curse-10437'\n",
    "test23 = yahoo_movie(url23)"
   ]
  },
  {
   "cell_type": "markdown",
   "metadata": {},
   "source": [
    "## 狂飆一夢"
   ]
  },
  {
   "cell_type": "code",
   "execution_count": 46,
   "metadata": {},
   "outputs": [
    {
     "name": "stderr",
     "output_type": "stream",
     "text": [
      "<ipython-input-22-91a42dcf71e5>:5: DeprecationWarning: use options instead of chrome_options\n",
      "  driver = webdriver.Chrome(r'D:\\chromedriver.exe',chrome_options=option)\n"
     ]
    },
    {
     "ename": "ValueError",
     "evalue": "invalid literal for int() with base 10: '檢舉'",
     "output_type": "error",
     "traceback": [
      "\u001b[1;31m---------------------------------------------------------------------------\u001b[0m",
      "\u001b[1;31mValueError\u001b[0m                                Traceback (most recent call last)",
      "\u001b[1;32m<ipython-input-46-60a582723a99>\u001b[0m in \u001b[0;36m<module>\u001b[1;34m\u001b[0m\n\u001b[0;32m      1\u001b[0m \u001b[0murl24\u001b[0m \u001b[1;33m=\u001b[0m \u001b[1;34m'https://movies.yahoo.com.tw/movieinfo_main/%E7%8B%82%E9%A3%86%E4%B8%80%E5%A4%A2-the-price-of-democracy-10506'\u001b[0m\u001b[1;33m\u001b[0m\u001b[1;33m\u001b[0m\u001b[0m\n\u001b[1;32m----> 2\u001b[1;33m \u001b[0mtest24\u001b[0m \u001b[1;33m=\u001b[0m \u001b[0myahoo_movie\u001b[0m\u001b[1;33m(\u001b[0m\u001b[0murl24\u001b[0m\u001b[1;33m)\u001b[0m\u001b[1;33m\u001b[0m\u001b[1;33m\u001b[0m\u001b[0m\n\u001b[0m",
      "\u001b[1;32m<ipython-input-22-91a42dcf71e5>\u001b[0m in \u001b[0;36myahoo_movie\u001b[1;34m(url)\u001b[0m\n\u001b[0;32m     14\u001b[0m     \u001b[0mtime\u001b[0m\u001b[1;33m.\u001b[0m\u001b[0msleep\u001b[0m\u001b[1;33m(\u001b[0m\u001b[1;36m3\u001b[0m\u001b[1;33m)\u001b[0m\u001b[1;33m\u001b[0m\u001b[1;33m\u001b[0m\u001b[0m\n\u001b[0;32m     15\u001b[0m     \u001b[0msoup\u001b[0m \u001b[1;33m=\u001b[0m \u001b[0mBeautifulSoup\u001b[0m\u001b[1;33m(\u001b[0m\u001b[0mdriver\u001b[0m\u001b[1;33m.\u001b[0m\u001b[0mpage_source\u001b[0m\u001b[1;33m,\u001b[0m \u001b[1;34m'html.parser'\u001b[0m\u001b[1;33m)\u001b[0m\u001b[1;33m\u001b[0m\u001b[1;33m\u001b[0m\u001b[0m\n\u001b[1;32m---> 16\u001b[1;33m     \u001b[0mpage\u001b[0m \u001b[1;33m=\u001b[0m \u001b[0mint\u001b[0m\u001b[1;33m(\u001b[0m\u001b[0msoup\u001b[0m\u001b[1;33m.\u001b[0m\u001b[0mselect\u001b[0m\u001b[1;33m(\u001b[0m\u001b[1;34m'li a'\u001b[0m\u001b[1;33m)\u001b[0m\u001b[1;33m[\u001b[0m\u001b[1;33m-\u001b[0m\u001b[1;36m2\u001b[0m\u001b[1;33m]\u001b[0m\u001b[1;33m.\u001b[0m\u001b[0mtext\u001b[0m\u001b[1;33m)\u001b[0m\u001b[1;33m\u001b[0m\u001b[1;33m\u001b[0m\u001b[0m\n\u001b[0m\u001b[0;32m     17\u001b[0m \u001b[1;33m\u001b[0m\u001b[0m\n\u001b[0;32m     18\u001b[0m     \u001b[0mtstart\u001b[0m \u001b[1;33m=\u001b[0m \u001b[0mtime\u001b[0m\u001b[1;33m.\u001b[0m\u001b[0mtime\u001b[0m\u001b[1;33m(\u001b[0m\u001b[1;33m)\u001b[0m\u001b[1;33m\u001b[0m\u001b[1;33m\u001b[0m\u001b[0m\n",
      "\u001b[1;31mValueError\u001b[0m: invalid literal for int() with base 10: '檢舉'"
     ]
    }
   ],
   "source": [
    "url24 = 'https://movies.yahoo.com.tw/movieinfo_main/%E7%8B%82%E9%A3%86%E4%B8%80%E5%A4%A2-the-price-of-democracy-10506'\n",
    "test24 = yahoo_movie(url24)"
   ]
  },
  {
   "cell_type": "markdown",
   "metadata": {},
   "source": [
    "## 戀愛iNG"
   ]
  },
  {
   "cell_type": "code",
   "execution_count": 47,
   "metadata": {},
   "outputs": [
    {
     "name": "stderr",
     "output_type": "stream",
     "text": [
      "<ipython-input-22-91a42dcf71e5>:5: DeprecationWarning: use options instead of chrome_options\n",
      "  driver = webdriver.Chrome(r'D:\\chromedriver.exe',chrome_options=option)\n"
     ]
    },
    {
     "name": "stdout",
     "output_type": "stream",
     "text": [
      "Finish !\n",
      "It runs 33.2276 sec\n",
      "-------------------------------------------------------\n",
      "Pages: 8 \n",
      "Comment: 76\n",
      "Ratting: 76\n",
      "-------------------------------------------------------\n",
      "you can print df1, comment, and rating to see the result\n"
     ]
    }
   ],
   "source": [
    "url25 = 'https://movies.yahoo.com.tw/movieinfo_main/%E7%B7%B4%E6%84%9BiNG-acting-out-of-love-10442'\n",
    "test25 = yahoo_movie(url25)"
   ]
  },
  {
   "cell_type": "markdown",
   "metadata": {},
   "source": [
    "## 老娘就要這麼活"
   ]
  },
  {
   "cell_type": "code",
   "execution_count": 48,
   "metadata": {},
   "outputs": [
    {
     "name": "stderr",
     "output_type": "stream",
     "text": [
      "<ipython-input-22-91a42dcf71e5>:5: DeprecationWarning: use options instead of chrome_options\n",
      "  driver = webdriver.Chrome(r'D:\\chromedriver.exe',chrome_options=option)\n"
     ]
    },
    {
     "name": "stdout",
     "output_type": "stream",
     "text": [
      "Finish !\n",
      "It runs 18.0438 sec\n",
      "-------------------------------------------------------\n",
      "Pages: 4 \n",
      "Comment: 40\n",
      "Ratting: 40\n",
      "-------------------------------------------------------\n",
      "you can print df1, comment, and rating to see the result\n"
     ]
    }
   ],
   "source": [
    "url26 = 'https://movies.yahoo.com.tw/movieinfo_main/%E8%80%81%E5%A8%98%E5%B0%B1%E8%A6%81%E9%80%99%E9%BA%BC%E6%B4%BB-lala-every-you-10611'\n",
    "test26 = yahoo_movie(url26)"
   ]
  },
  {
   "cell_type": "markdown",
   "metadata": {},
   "source": [
    "## 蚵豐村"
   ]
  },
  {
   "cell_type": "code",
   "execution_count": 49,
   "metadata": {},
   "outputs": [
    {
     "name": "stderr",
     "output_type": "stream",
     "text": [
      "<ipython-input-22-91a42dcf71e5>:5: DeprecationWarning: use options instead of chrome_options\n",
      "  driver = webdriver.Chrome(r'D:\\chromedriver.exe',chrome_options=option)\n"
     ]
    },
    {
     "ename": "ValueError",
     "evalue": "invalid literal for int() with base 10: '檢舉'",
     "output_type": "error",
     "traceback": [
      "\u001b[1;31m---------------------------------------------------------------------------\u001b[0m",
      "\u001b[1;31mValueError\u001b[0m                                Traceback (most recent call last)",
      "\u001b[1;32m<ipython-input-49-48db3e82c153>\u001b[0m in \u001b[0;36m<module>\u001b[1;34m\u001b[0m\n\u001b[0;32m      1\u001b[0m \u001b[0murl27\u001b[0m \u001b[1;33m=\u001b[0m \u001b[1;34m'https://movies.yahoo.com.tw/movieinfo_main/%E8%9A%B5%E8%B1%90%E6%9D%91-ohong-village-10688'\u001b[0m\u001b[1;33m\u001b[0m\u001b[1;33m\u001b[0m\u001b[0m\n\u001b[1;32m----> 2\u001b[1;33m \u001b[0mtest27\u001b[0m \u001b[1;33m=\u001b[0m \u001b[0myahoo_movie\u001b[0m\u001b[1;33m(\u001b[0m\u001b[0murl27\u001b[0m\u001b[1;33m)\u001b[0m\u001b[1;33m\u001b[0m\u001b[1;33m\u001b[0m\u001b[0m\n\u001b[0m",
      "\u001b[1;32m<ipython-input-22-91a42dcf71e5>\u001b[0m in \u001b[0;36myahoo_movie\u001b[1;34m(url)\u001b[0m\n\u001b[0;32m     14\u001b[0m     \u001b[0mtime\u001b[0m\u001b[1;33m.\u001b[0m\u001b[0msleep\u001b[0m\u001b[1;33m(\u001b[0m\u001b[1;36m3\u001b[0m\u001b[1;33m)\u001b[0m\u001b[1;33m\u001b[0m\u001b[1;33m\u001b[0m\u001b[0m\n\u001b[0;32m     15\u001b[0m     \u001b[0msoup\u001b[0m \u001b[1;33m=\u001b[0m \u001b[0mBeautifulSoup\u001b[0m\u001b[1;33m(\u001b[0m\u001b[0mdriver\u001b[0m\u001b[1;33m.\u001b[0m\u001b[0mpage_source\u001b[0m\u001b[1;33m,\u001b[0m \u001b[1;34m'html.parser'\u001b[0m\u001b[1;33m)\u001b[0m\u001b[1;33m\u001b[0m\u001b[1;33m\u001b[0m\u001b[0m\n\u001b[1;32m---> 16\u001b[1;33m     \u001b[0mpage\u001b[0m \u001b[1;33m=\u001b[0m \u001b[0mint\u001b[0m\u001b[1;33m(\u001b[0m\u001b[0msoup\u001b[0m\u001b[1;33m.\u001b[0m\u001b[0mselect\u001b[0m\u001b[1;33m(\u001b[0m\u001b[1;34m'li a'\u001b[0m\u001b[1;33m)\u001b[0m\u001b[1;33m[\u001b[0m\u001b[1;33m-\u001b[0m\u001b[1;36m2\u001b[0m\u001b[1;33m]\u001b[0m\u001b[1;33m.\u001b[0m\u001b[0mtext\u001b[0m\u001b[1;33m)\u001b[0m\u001b[1;33m\u001b[0m\u001b[1;33m\u001b[0m\u001b[0m\n\u001b[0m\u001b[0;32m     17\u001b[0m \u001b[1;33m\u001b[0m\u001b[0m\n\u001b[0;32m     18\u001b[0m     \u001b[0mtstart\u001b[0m \u001b[1;33m=\u001b[0m \u001b[0mtime\u001b[0m\u001b[1;33m.\u001b[0m\u001b[0mtime\u001b[0m\u001b[1;33m(\u001b[0m\u001b[1;33m)\u001b[0m\u001b[1;33m\u001b[0m\u001b[1;33m\u001b[0m\u001b[0m\n",
      "\u001b[1;31mValueError\u001b[0m: invalid literal for int() with base 10: '檢舉'"
     ]
    }
   ],
   "source": [
    "url27 = 'https://movies.yahoo.com.tw/movieinfo_main/%E8%9A%B5%E8%B1%90%E6%9D%91-ohong-village-10688'\n",
    "test27 = yahoo_movie(url27)"
   ]
  },
  {
   "cell_type": "markdown",
   "metadata": {},
   "source": [
    "## 菠蘿蜜"
   ]
  },
  {
   "cell_type": "code",
   "execution_count": 50,
   "metadata": {},
   "outputs": [
    {
     "name": "stderr",
     "output_type": "stream",
     "text": [
      "<ipython-input-22-91a42dcf71e5>:5: DeprecationWarning: use options instead of chrome_options\n",
      "  driver = webdriver.Chrome(r'D:\\chromedriver.exe',chrome_options=option)\n"
     ]
    },
    {
     "ename": "ValueError",
     "evalue": "invalid literal for int() with base 10: '時刻表'",
     "output_type": "error",
     "traceback": [
      "\u001b[1;31m---------------------------------------------------------------------------\u001b[0m",
      "\u001b[1;31mValueError\u001b[0m                                Traceback (most recent call last)",
      "\u001b[1;32m<ipython-input-50-081338ae5f5d>\u001b[0m in \u001b[0;36m<module>\u001b[1;34m\u001b[0m\n\u001b[0;32m      1\u001b[0m \u001b[0murl28\u001b[0m \u001b[1;33m=\u001b[0m \u001b[1;34m'https://movies.yahoo.com.tw/movieinfo_main/%E8%8F%A0%E8%98%BF%E8%9C%9C-boluomi-10412'\u001b[0m\u001b[1;33m\u001b[0m\u001b[1;33m\u001b[0m\u001b[0m\n\u001b[1;32m----> 2\u001b[1;33m \u001b[0mtest28\u001b[0m \u001b[1;33m=\u001b[0m \u001b[0myahoo_movie\u001b[0m\u001b[1;33m(\u001b[0m\u001b[0murl28\u001b[0m\u001b[1;33m)\u001b[0m\u001b[1;33m\u001b[0m\u001b[1;33m\u001b[0m\u001b[0m\n\u001b[0m",
      "\u001b[1;32m<ipython-input-22-91a42dcf71e5>\u001b[0m in \u001b[0;36myahoo_movie\u001b[1;34m(url)\u001b[0m\n\u001b[0;32m     14\u001b[0m     \u001b[0mtime\u001b[0m\u001b[1;33m.\u001b[0m\u001b[0msleep\u001b[0m\u001b[1;33m(\u001b[0m\u001b[1;36m3\u001b[0m\u001b[1;33m)\u001b[0m\u001b[1;33m\u001b[0m\u001b[1;33m\u001b[0m\u001b[0m\n\u001b[0;32m     15\u001b[0m     \u001b[0msoup\u001b[0m \u001b[1;33m=\u001b[0m \u001b[0mBeautifulSoup\u001b[0m\u001b[1;33m(\u001b[0m\u001b[0mdriver\u001b[0m\u001b[1;33m.\u001b[0m\u001b[0mpage_source\u001b[0m\u001b[1;33m,\u001b[0m \u001b[1;34m'html.parser'\u001b[0m\u001b[1;33m)\u001b[0m\u001b[1;33m\u001b[0m\u001b[1;33m\u001b[0m\u001b[0m\n\u001b[1;32m---> 16\u001b[1;33m     \u001b[0mpage\u001b[0m \u001b[1;33m=\u001b[0m \u001b[0mint\u001b[0m\u001b[1;33m(\u001b[0m\u001b[0msoup\u001b[0m\u001b[1;33m.\u001b[0m\u001b[0mselect\u001b[0m\u001b[1;33m(\u001b[0m\u001b[1;34m'li a'\u001b[0m\u001b[1;33m)\u001b[0m\u001b[1;33m[\u001b[0m\u001b[1;33m-\u001b[0m\u001b[1;36m2\u001b[0m\u001b[1;33m]\u001b[0m\u001b[1;33m.\u001b[0m\u001b[0mtext\u001b[0m\u001b[1;33m)\u001b[0m\u001b[1;33m\u001b[0m\u001b[1;33m\u001b[0m\u001b[0m\n\u001b[0m\u001b[0;32m     17\u001b[0m \u001b[1;33m\u001b[0m\u001b[0m\n\u001b[0;32m     18\u001b[0m     \u001b[0mtstart\u001b[0m \u001b[1;33m=\u001b[0m \u001b[0mtime\u001b[0m\u001b[1;33m.\u001b[0m\u001b[0mtime\u001b[0m\u001b[1;33m(\u001b[0m\u001b[1;33m)\u001b[0m\u001b[1;33m\u001b[0m\u001b[1;33m\u001b[0m\u001b[0m\n",
      "\u001b[1;31mValueError\u001b[0m: invalid literal for int() with base 10: '時刻表'"
     ]
    }
   ],
   "source": [
    "url28 = 'https://movies.yahoo.com.tw/movieinfo_main/%E8%8F%A0%E8%98%BF%E8%9C%9C-boluomi-10412'\n",
    "test28 = yahoo_movie(url28)"
   ]
  },
  {
   "cell_type": "markdown",
   "metadata": {},
   "source": [
    "## 孤味"
   ]
  },
  {
   "cell_type": "code",
   "execution_count": 51,
   "metadata": {},
   "outputs": [
    {
     "name": "stderr",
     "output_type": "stream",
     "text": [
      "<ipython-input-22-91a42dcf71e5>:5: DeprecationWarning: use options instead of chrome_options\n",
      "  driver = webdriver.Chrome(r'D:\\chromedriver.exe',chrome_options=option)\n"
     ]
    },
    {
     "name": "stdout",
     "output_type": "stream",
     "text": [
      "Finish !\n",
      "It runs 83.8300 sec\n",
      "-------------------------------------------------------\n",
      "Pages: 18 \n",
      "Comment: 176\n",
      "Ratting: 176\n",
      "-------------------------------------------------------\n",
      "you can print df1, comment, and rating to see the result\n"
     ]
    }
   ],
   "source": [
    "url29 = 'https://movies.yahoo.com.tw/movieinfo_main/%E5%AD%A4%E5%91%B3-little-big-women-10477'\n",
    "test29 = yahoo_movie(url29)"
   ]
  },
  {
   "cell_type": "markdown",
   "metadata": {},
   "source": [
    "## 親愛的房客"
   ]
  },
  {
   "cell_type": "code",
   "execution_count": 52,
   "metadata": {},
   "outputs": [
    {
     "name": "stderr",
     "output_type": "stream",
     "text": [
      "<ipython-input-22-91a42dcf71e5>:5: DeprecationWarning: use options instead of chrome_options\n",
      "  driver = webdriver.Chrome(r'D:\\chromedriver.exe',chrome_options=option)\n"
     ]
    },
    {
     "name": "stdout",
     "output_type": "stream",
     "text": [
      "Finish !\n",
      "It runs 28.6271 sec\n",
      "-------------------------------------------------------\n",
      "Pages: 7 \n",
      "Comment: 67\n",
      "Ratting: 67\n",
      "-------------------------------------------------------\n",
      "you can print df1, comment, and rating to see the result\n"
     ]
    }
   ],
   "source": [
    "url30 = 'https://movies.yahoo.com.tw/movieinfo_main/%E8%A6%AA%E6%84%9B%E7%9A%84%E6%88%BF%E5%AE%A2-dear-tenant-10707'\n",
    "test30 = yahoo_movie(url30)"
   ]
  },
  {
   "cell_type": "markdown",
   "metadata": {},
   "source": [
    "## 無聲"
   ]
  },
  {
   "cell_type": "code",
   "execution_count": 53,
   "metadata": {},
   "outputs": [
    {
     "name": "stderr",
     "output_type": "stream",
     "text": [
      "<ipython-input-22-91a42dcf71e5>:5: DeprecationWarning: use options instead of chrome_options\n",
      "  driver = webdriver.Chrome(r'D:\\chromedriver.exe',chrome_options=option)\n"
     ]
    },
    {
     "name": "stdout",
     "output_type": "stream",
     "text": [
      "Finish !\n",
      "It runs 39.0567 sec\n",
      "-------------------------------------------------------\n",
      "Pages: 8 \n",
      "Comment: 74\n",
      "Ratting: 74\n",
      "-------------------------------------------------------\n",
      "you can print df1, comment, and rating to see the result\n"
     ]
    }
   ],
   "source": [
    "url31 = 'https://movies.yahoo.com.tw/movieinfo_main/%E7%84%A1%E8%81%B2-the-silent-forest-10926'\n",
    "test31 = yahoo_movie(url31)"
   ]
  },
  {
   "cell_type": "markdown",
   "metadata": {},
   "source": [
    "## 杏林醫院"
   ]
  },
  {
   "cell_type": "code",
   "execution_count": 54,
   "metadata": {},
   "outputs": [
    {
     "name": "stderr",
     "output_type": "stream",
     "text": [
      "<ipython-input-22-91a42dcf71e5>:5: DeprecationWarning: use options instead of chrome_options\n",
      "  driver = webdriver.Chrome(r'D:\\chromedriver.exe',chrome_options=option)\n"
     ]
    },
    {
     "name": "stdout",
     "output_type": "stream",
     "text": [
      "Finish !\n",
      "It runs 36.4162 sec\n",
      "-------------------------------------------------------\n",
      "Pages: 8 \n",
      "Comment: 74\n",
      "Ratting: 74\n",
      "-------------------------------------------------------\n",
      "you can print df1, comment, and rating to see the result\n"
     ]
    }
   ],
   "source": [
    "url32 = 'https://movies.yahoo.com.tw/movieinfo_main/%E7%84%A1%E8%81%B2-the-silent-forest-10926'\n",
    "test32 = yahoo_movie(url32)"
   ]
  },
  {
   "cell_type": "markdown",
   "metadata": {},
   "source": [
    "## 腿"
   ]
  },
  {
   "cell_type": "code",
   "execution_count": 55,
   "metadata": {},
   "outputs": [
    {
     "name": "stderr",
     "output_type": "stream",
     "text": [
      "<ipython-input-22-91a42dcf71e5>:5: DeprecationWarning: use options instead of chrome_options\n",
      "  driver = webdriver.Chrome(r'D:\\chromedriver.exe',chrome_options=option)\n"
     ]
    },
    {
     "name": "stdout",
     "output_type": "stream",
     "text": [
      "Finish !\n",
      "It runs 41.2294 sec\n",
      "-------------------------------------------------------\n",
      "Pages: 9 \n",
      "Comment: 81\n",
      "Ratting: 81\n",
      "-------------------------------------------------------\n",
      "you can print df1, comment, and rating to see the result\n"
     ]
    }
   ],
   "source": [
    "url33 = 'https://movies.yahoo.com.tw/movieinfo_main/%E8%85%BF-a-leg-10934'\n",
    "test33 = yahoo_movie(url33)"
   ]
  },
  {
   "cell_type": "markdown",
   "metadata": {},
   "source": [
    "## 親愛的殺手"
   ]
  },
  {
   "cell_type": "code",
   "execution_count": 56,
   "metadata": {},
   "outputs": [
    {
     "name": "stderr",
     "output_type": "stream",
     "text": [
      "<ipython-input-22-91a42dcf71e5>:5: DeprecationWarning: use options instead of chrome_options\n",
      "  driver = webdriver.Chrome(r'D:\\chromedriver.exe',chrome_options=option)\n"
     ]
    },
    {
     "name": "stdout",
     "output_type": "stream",
     "text": [
      "Finish !\n",
      "It runs 8.2973 sec\n",
      "-------------------------------------------------------\n",
      "Pages: 2 \n",
      "Comment: 13\n",
      "Ratting: 13\n",
      "-------------------------------------------------------\n",
      "you can print df1, comment, and rating to see the result\n"
     ]
    }
   ],
   "source": [
    "url34 = 'https://movies.yahoo.com.tw/movieinfo_main/%E8%A6%AA%E6%84%9B%E7%9A%84%E6%AE%BA%E6%89%8B-be-alive-just-like-you-10861'\n",
    "test34 = yahoo_movie(url34)"
   ]
  },
  {
   "cell_type": "markdown",
   "metadata": {},
   "source": [
    "## 迷走廣州"
   ]
  },
  {
   "cell_type": "code",
   "execution_count": 57,
   "metadata": {},
   "outputs": [
    {
     "name": "stderr",
     "output_type": "stream",
     "text": [
      "<ipython-input-22-91a42dcf71e5>:5: DeprecationWarning: use options instead of chrome_options\n",
      "  driver = webdriver.Chrome(r'D:\\chromedriver.exe',chrome_options=option)\n"
     ]
    },
    {
     "ename": "ValueError",
     "evalue": "invalid literal for int() with base 10: '\\n                  熱門'",
     "output_type": "error",
     "traceback": [
      "\u001b[1;31m---------------------------------------------------------------------------\u001b[0m",
      "\u001b[1;31mValueError\u001b[0m                                Traceback (most recent call last)",
      "\u001b[1;32m<ipython-input-57-0cc43bcde9d6>\u001b[0m in \u001b[0;36m<module>\u001b[1;34m\u001b[0m\n\u001b[0;32m      1\u001b[0m \u001b[0murl35\u001b[0m \u001b[1;33m=\u001b[0m \u001b[1;34m'https://movies.yahoo.com.tw/movieinfo_main/%E8%BF%B7%E8%B5%B0%E5%BB%A3%E5%B7%9E-mickey-on-the-road-11060'\u001b[0m\u001b[1;33m\u001b[0m\u001b[1;33m\u001b[0m\u001b[0m\n\u001b[1;32m----> 2\u001b[1;33m \u001b[0mtest35\u001b[0m \u001b[1;33m=\u001b[0m \u001b[0myahoo_movie\u001b[0m\u001b[1;33m(\u001b[0m\u001b[0murl35\u001b[0m\u001b[1;33m)\u001b[0m\u001b[1;33m\u001b[0m\u001b[1;33m\u001b[0m\u001b[0m\n\u001b[0m",
      "\u001b[1;32m<ipython-input-22-91a42dcf71e5>\u001b[0m in \u001b[0;36myahoo_movie\u001b[1;34m(url)\u001b[0m\n\u001b[0;32m     14\u001b[0m     \u001b[0mtime\u001b[0m\u001b[1;33m.\u001b[0m\u001b[0msleep\u001b[0m\u001b[1;33m(\u001b[0m\u001b[1;36m3\u001b[0m\u001b[1;33m)\u001b[0m\u001b[1;33m\u001b[0m\u001b[1;33m\u001b[0m\u001b[0m\n\u001b[0;32m     15\u001b[0m     \u001b[0msoup\u001b[0m \u001b[1;33m=\u001b[0m \u001b[0mBeautifulSoup\u001b[0m\u001b[1;33m(\u001b[0m\u001b[0mdriver\u001b[0m\u001b[1;33m.\u001b[0m\u001b[0mpage_source\u001b[0m\u001b[1;33m,\u001b[0m \u001b[1;34m'html.parser'\u001b[0m\u001b[1;33m)\u001b[0m\u001b[1;33m\u001b[0m\u001b[1;33m\u001b[0m\u001b[0m\n\u001b[1;32m---> 16\u001b[1;33m     \u001b[0mpage\u001b[0m \u001b[1;33m=\u001b[0m \u001b[0mint\u001b[0m\u001b[1;33m(\u001b[0m\u001b[0msoup\u001b[0m\u001b[1;33m.\u001b[0m\u001b[0mselect\u001b[0m\u001b[1;33m(\u001b[0m\u001b[1;34m'li a'\u001b[0m\u001b[1;33m)\u001b[0m\u001b[1;33m[\u001b[0m\u001b[1;33m-\u001b[0m\u001b[1;36m2\u001b[0m\u001b[1;33m]\u001b[0m\u001b[1;33m.\u001b[0m\u001b[0mtext\u001b[0m\u001b[1;33m)\u001b[0m\u001b[1;33m\u001b[0m\u001b[1;33m\u001b[0m\u001b[0m\n\u001b[0m\u001b[0;32m     17\u001b[0m \u001b[1;33m\u001b[0m\u001b[0m\n\u001b[0;32m     18\u001b[0m     \u001b[0mtstart\u001b[0m \u001b[1;33m=\u001b[0m \u001b[0mtime\u001b[0m\u001b[1;33m.\u001b[0m\u001b[0mtime\u001b[0m\u001b[1;33m(\u001b[0m\u001b[1;33m)\u001b[0m\u001b[1;33m\u001b[0m\u001b[1;33m\u001b[0m\u001b[0m\n",
      "\u001b[1;31mValueError\u001b[0m: invalid literal for int() with base 10: '\\n                  熱門'"
     ]
    }
   ],
   "source": [
    "url35 = 'https://movies.yahoo.com.tw/movieinfo_main/%E8%BF%B7%E8%B5%B0%E5%BB%A3%E5%B7%9E-mickey-on-the-road-11060'\n",
    "test35 = yahoo_movie(url35)"
   ]
  },
  {
   "cell_type": "markdown",
   "metadata": {},
   "source": [
    "## 十二夜2：回到第零天"
   ]
  },
  {
   "cell_type": "code",
   "execution_count": 58,
   "metadata": {},
   "outputs": [
    {
     "name": "stderr",
     "output_type": "stream",
     "text": [
      "<ipython-input-22-91a42dcf71e5>:5: DeprecationWarning: use options instead of chrome_options\n",
      "  driver = webdriver.Chrome(r'D:\\chromedriver.exe',chrome_options=option)\n"
     ]
    },
    {
     "name": "stdout",
     "output_type": "stream",
     "text": [
      "Finish !\n",
      "It runs 7.3881 sec\n",
      "-------------------------------------------------------\n",
      "Pages: 2 \n",
      "Comment: 17\n",
      "Ratting: 17\n",
      "-------------------------------------------------------\n",
      "you can print df1, comment, and rating to see the result\n"
     ]
    }
   ],
   "source": [
    "url36 = 'https://movies.yahoo.com.tw/movieinfo_main/%E5%8D%81%E4%BA%8C%E5%A4%9C2-%E5%9B%9E%E5%88%B0%E7%AC%AC%E9%9B%B6%E5%A4%A9-twelve-nights-2-back-to-day-zero-11035'\n",
    "test36 = yahoo_movie(url36)"
   ]
  },
  {
   "cell_type": "code",
   "execution_count": null,
   "metadata": {},
   "outputs": [],
   "source": []
  },
  {
   "cell_type": "markdown",
   "metadata": {},
   "source": [
    "# 預處理"
   ]
  },
  {
   "cell_type": "code",
   "execution_count": 69,
   "metadata": {},
   "outputs": [
    {
     "ename": "SyntaxError",
     "evalue": "invalid syntax (<ipython-input-69-5b641997c6d9>, line 4)",
     "output_type": "error",
     "traceback": [
      "\u001b[1;36m  File \u001b[1;32m\"<ipython-input-69-5b641997c6d9>\"\u001b[1;36m, line \u001b[1;32m4\u001b[0m\n\u001b[1;33m    import seaborn as sns <3\u001b[0m\n\u001b[1;37m                          ^\u001b[0m\n\u001b[1;31mSyntaxError\u001b[0m\u001b[1;31m:\u001b[0m invalid syntax\n"
     ]
    }
   ],
   "source": [
    "import re\n",
    "import matplotlib.pyplot as plt\n",
    "from matplotlib.font_manager import FontProperties\n",
    "import seaborn as sns <3\n",
    "%matplotlib inline "
   ]
  },
  {
   "cell_type": "code",
   "execution_count": 60,
   "metadata": {},
   "outputs": [
    {
     "data": {
      "text/html": [
       "<div>\n",
       "<style scoped>\n",
       "    .dataframe tbody tr th:only-of-type {\n",
       "        vertical-align: middle;\n",
       "    }\n",
       "\n",
       "    .dataframe tbody tr th {\n",
       "        vertical-align: top;\n",
       "    }\n",
       "\n",
       "    .dataframe thead th {\n",
       "        text-align: right;\n",
       "    }\n",
       "</style>\n",
       "<table border=\"1\" class=\"dataframe\">\n",
       "  <thead>\n",
       "    <tr style=\"text-align: right;\">\n",
       "      <th></th>\n",
       "      <th>rating</th>\n",
       "      <th>comment</th>\n",
       "    </tr>\n",
       "  </thead>\n",
       "  <tbody>\n",
       "    <tr>\n",
       "      <th>0</th>\n",
       "      <td>1</td>\n",
       "      <td>真的超級難看，沒頭沒尾，沒有重點，沒有結局，劇情莫名其妙，拉低國片的水準。 這部內容應該是市...</td>\n",
       "    </tr>\n",
       "    <tr>\n",
       "      <th>1</th>\n",
       "      <td>1</td>\n",
       "      <td>不虧是金馬黃導的片，低俗，下流，沒頭沒尾。\\n推薦時間很多的人來看</td>\n",
       "    </tr>\n",
       "    <tr>\n",
       "      <th>2</th>\n",
       "      <td>2</td>\n",
       "      <td>超無聊的......................................</td>\n",
       "    </tr>\n",
       "    <tr>\n",
       "      <th>3</th>\n",
       "      <td>5</td>\n",
       "      <td>明明一樣超好笑的啊 比較草根性的人比較會有感覺 這才是正港的台灣國片</td>\n",
       "    </tr>\n",
       "    <tr>\n",
       "      <th>4</th>\n",
       "      <td>1</td>\n",
       "      <td>我很難理解這部片入圍最佳劇情長片，大部分的笑點都令人尷尬，糟蹋一票好演員。無聲和腿(腿令人驚...</td>\n",
       "    </tr>\n",
       "    <tr>\n",
       "      <th>...</th>\n",
       "      <td>...</td>\n",
       "      <td>...</td>\n",
       "    </tr>\n",
       "    <tr>\n",
       "      <th>2893</th>\n",
       "      <td>5</td>\n",
       "      <td>這集恐怖的點，在於老一輩可怕的飼養觀念，以及第一線人員受到的刁難與艱辛。真的，心很酸。</td>\n",
       "    </tr>\n",
       "    <tr>\n",
       "      <th>2894</th>\n",
       "      <td>5</td>\n",
       "      <td>真的很棒，影片在談論的議題、許多人的努力，非常值得一看！</td>\n",
       "    </tr>\n",
       "    <tr>\n",
       "      <th>2895</th>\n",
       "      <td>4</td>\n",
       "      <td>領養代替購買 節育代替撲殺，除了是口號、觀念外，也是要長久持續的進行</td>\n",
       "    </tr>\n",
       "    <tr>\n",
       "      <th>2896</th>\n",
       "      <td>5</td>\n",
       "      <td>很感動，向這些為動物、社會努力的人致敬，儘管我們市井小民或許很難直接的出一份心力，但我想只要...</td>\n",
       "    </tr>\n",
       "    <tr>\n",
       "      <th>2897</th>\n",
       "      <td>5</td>\n",
       "      <td>支持領養代替購買，每隻貓狗都是生命~~他們只是遇到不對的飼主，世上還是有很多好的飼主</td>\n",
       "    </tr>\n",
       "  </tbody>\n",
       "</table>\n",
       "<p>2898 rows × 2 columns</p>\n",
       "</div>"
      ],
      "text/plain": [
       "     rating                                            comment\n",
       "0         1  真的超級難看，沒頭沒尾，沒有重點，沒有結局，劇情莫名其妙，拉低國片的水準。 這部內容應該是市...\n",
       "1         1                  不虧是金馬黃導的片，低俗，下流，沒頭沒尾。\\n推薦時間很多的人來看\n",
       "2         2         超無聊的......................................\n",
       "3         5                 明明一樣超好笑的啊 比較草根性的人比較會有感覺 這才是正港的台灣國片\n",
       "4         1  我很難理解這部片入圍最佳劇情長片，大部分的笑點都令人尷尬，糟蹋一票好演員。無聲和腿(腿令人驚...\n",
       "...     ...                                                ...\n",
       "2893      5        這集恐怖的點，在於老一輩可怕的飼養觀念，以及第一線人員受到的刁難與艱辛。真的，心很酸。\n",
       "2894      5                       真的很棒，影片在談論的議題、許多人的努力，非常值得一看！\n",
       "2895      4                 領養代替購買 節育代替撲殺，除了是口號、觀念外，也是要長久持續的進行\n",
       "2896      5  很感動，向這些為動物、社會努力的人致敬，儘管我們市井小民或許很難直接的出一份心力，但我想只要...\n",
       "2897      5         支持領養代替購買，每隻貓狗都是生命~~他們只是遇到不對的飼主，世上還是有很多好的飼主\n",
       "\n",
       "[2898 rows x 2 columns]"
      ]
     },
     "execution_count": 60,
     "metadata": {},
     "output_type": "execute_result"
    }
   ],
   "source": [
    "final = pd.concat([test2, test4, test5, test6, test8, test9, test12, test14, test15, test16, test17, test18, test20, test22, test23, test25, test26, test29, test30, test31, test32, test33, test34, test36], axis=0)\n",
    "final = final.reset_index(drop=True)\n",
    "final"
   ]
  },
  {
   "cell_type": "code",
   "execution_count": 76,
   "metadata": {},
   "outputs": [
    {
     "data": {
      "text/plain": [
       "Text(0.5, 1.0, '所有評論分布狀況')"
      ]
     },
     "execution_count": 76,
     "metadata": {},
     "output_type": "execute_result"
    },
    {
     "data": {
      "image/png": "[encoded data removed]",
      "text/plain": [
       "<Figure size 360x216 with 1 Axes>"
      ]
     },
     "metadata": {},
     "output_type": "display_data"
    }
   ],
   "source": [
    "labels = ['1', '2', '3', '4', '5']\n",
    "x = final.iloc[:,0]\n",
    "ratings = [sum(x=='1'), sum(x=='2'), sum(x=='3'), sum(x=='4'), sum(x=='5')]\n",
    "\n",
    "plt.figure(figsize=(5,3))\n",
    "\n",
    "#根據數值上不同顏色\n",
    "col = np.array(ratings)/max(ratings)\n",
    "col = plt.cm.RdYlGn(col)\n",
    "\n",
    "plt.bar(labels, ratings, color=col)\n",
    "\n",
    "plt.ylim([0,2500]) # y軸範圍\n",
    "\n",
    "#修改座標名稱\n",
    "plt.xticks(np.arange(5), labels=labels)\n",
    "\n",
    "rects = plt.bar(labels, ratings, color=col)\n",
    "for rect in rects:  #rects 是三根柱子的集合\n",
    "    height = rect.get_height()\n",
    "    plt.text(rect.get_x() + rect.get_width() / 2, height, str(height), size=12, ha='center', va='bottom')\n",
    "\n",
    "    \n",
    "plt.rcParams['font.sans-serif'] = ['Microsoft JhengHei']\n",
    "plt.rcParams['axes.unicode_minus'] = False\n",
    "plt.title('所有評論分布狀況')"
   ]
  },
  {
   "cell_type": "code",
   "execution_count": 62,
   "metadata": {},
   "outputs": [
    {
     "name": "stdout",
     "output_type": "stream",
     "text": [
      "1: 498\n",
      "2: 104\n",
      "3: 120\n",
      "4: 192\n",
      "5: 1984\n"
     ]
    }
   ],
   "source": [
    "print('1:',sum(x=='1'))\n",
    "print('2:',sum(x=='2'))\n",
    "print('3:',sum(x=='3'))\n",
    "print('4:',sum(x=='4'))\n",
    "print('5:',sum(x=='5'))"
   ]
  },
  {
   "cell_type": "markdown",
   "metadata": {},
   "source": [
    "# Output"
   ]
  },
  {
   "cell_type": "code",
   "execution_count": 64,
   "metadata": {},
   "outputs": [],
   "source": [
    "def OutputCSV(data, name):   \n",
    "    Result = 'D:\\desktop\\論文\\\\' + str(name) + '.csv'\n",
    "    data.to_csv(Result, index=False, encoding='utf_8_sig')\n",
    "    print( '成功產出' + Result )"
   ]
  },
  {
   "cell_type": "code",
   "execution_count": 65,
   "metadata": {},
   "outputs": [
    {
     "name": "stdout",
     "output_type": "stream",
     "text": [
      "成功產出D:\\desktop\\論文\\yahoo_movie0228.csv\n"
     ]
    }
   ],
   "source": [
    "OutputCSV(final, 'yahoo_movie0228')"
   ]
  },
  {
   "cell_type": "code",
   "execution_count": null,
   "metadata": {},
   "outputs": [],
   "source": []
  }
 ],
 "metadata": {
  "kernelspec": {
   "display_name": "Python 3",
   "language": "python",
   "name": "python3"
  },
  "language_info": {
   "codemirror_mode": {
    "name": "ipython",
    "version": 3
   },
   "file_extension": ".py",
   "mimetype": "text/x-python",
   "name": "python",
   "nbconvert_exporter": "python",
   "pygments_lexer": "ipython3",
   "version": "3.8.3"
  }
 },
 "nbformat": 4,
 "nbformat_minor": 4
}
